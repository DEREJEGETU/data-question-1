{
 "cells": [
  {
   "cell_type": "code",
   "execution_count": 1,
   "metadata": {
    "collapsed": true
   },
   "outputs": [],
   "source": [
    "import pandas as pd \n",
    "import matplotlib as mpl\n",
    "import numpy as np\n",
    "import matplotlib.pyplot as plt"
   ]
  },
  {
   "cell_type": "code",
   "execution_count": 2,
   "metadata": {
    "collapsed": true
   },
   "outputs": [],
   "source": [
    "%matplotlib inline"
   ]
  },
  {
   "cell_type": "code",
   "execution_count": 3,
   "metadata": {
    "collapsed": true
   },
   "outputs": [],
   "source": [
    "net_migration=pd.read_csv('Net_Migration.csv')"
   ]
  },
  {
   "cell_type": "code",
   "execution_count": 4,
   "metadata": {},
   "outputs": [
    {
     "data": {
      "text/html": [
       "<div>\n",
       "<style>\n",
       "    .dataframe thead tr:only-child th {\n",
       "        text-align: right;\n",
       "    }\n",
       "\n",
       "    .dataframe thead th {\n",
       "        text-align: left;\n",
       "    }\n",
       "\n",
       "    .dataframe tbody tr th {\n",
       "        vertical-align: top;\n",
       "    }\n",
       "</style>\n",
       "<table border=\"1\" class=\"dataframe\">\n",
       "  <thead>\n",
       "    <tr style=\"text-align: right;\">\n",
       "      <th></th>\n",
       "      <th>Country or Area</th>\n",
       "      <th>Year</th>\n",
       "      <th>Value</th>\n",
       "      <th>Value Footnotes</th>\n",
       "    </tr>\n",
       "  </thead>\n",
       "  <tbody>\n",
       "    <tr>\n",
       "      <th>0</th>\n",
       "      <td>Afghanistan</td>\n",
       "      <td>2012</td>\n",
       "      <td>473007</td>\n",
       "      <td>NaN</td>\n",
       "    </tr>\n",
       "    <tr>\n",
       "      <th>1</th>\n",
       "      <td>Afghanistan</td>\n",
       "      <td>2007</td>\n",
       "      <td>-677497</td>\n",
       "      <td>NaN</td>\n",
       "    </tr>\n",
       "    <tr>\n",
       "      <th>2</th>\n",
       "      <td>Afghanistan</td>\n",
       "      <td>2002</td>\n",
       "      <td>804120</td>\n",
       "      <td>NaN</td>\n",
       "    </tr>\n",
       "    <tr>\n",
       "      <th>3</th>\n",
       "      <td>Afghanistan</td>\n",
       "      <td>1997</td>\n",
       "      <td>-379474</td>\n",
       "      <td>NaN</td>\n",
       "    </tr>\n",
       "    <tr>\n",
       "      <th>4</th>\n",
       "      <td>Afghanistan</td>\n",
       "      <td>1992</td>\n",
       "      <td>2227474</td>\n",
       "      <td>NaN</td>\n",
       "    </tr>\n",
       "  </tbody>\n",
       "</table>\n",
       "</div>"
      ],
      "text/plain": [
       "  Country or Area  Year    Value  Value Footnotes\n",
       "0     Afghanistan  2012   473007              NaN\n",
       "1     Afghanistan  2007  -677497              NaN\n",
       "2     Afghanistan  2002   804120              NaN\n",
       "3     Afghanistan  1997  -379474              NaN\n",
       "4     Afghanistan  1992  2227474              NaN"
      ]
     },
     "execution_count": 4,
     "metadata": {},
     "output_type": "execute_result"
    }
   ],
   "source": [
    "net_migration.head()"
   ]
  },
  {
   "cell_type": "code",
   "execution_count": 5,
   "metadata": {
    "scrolled": true
   },
   "outputs": [
    {
     "data": {
      "text/html": [
       "<div>\n",
       "<style>\n",
       "    .dataframe thead tr:only-child th {\n",
       "        text-align: right;\n",
       "    }\n",
       "\n",
       "    .dataframe thead th {\n",
       "        text-align: left;\n",
       "    }\n",
       "\n",
       "    .dataframe tbody tr th {\n",
       "        vertical-align: top;\n",
       "    }\n",
       "</style>\n",
       "<table border=\"1\" class=\"dataframe\">\n",
       "  <thead>\n",
       "    <tr style=\"text-align: right;\">\n",
       "      <th></th>\n",
       "      <th>Country or Area</th>\n",
       "      <th>Year</th>\n",
       "      <th>Value</th>\n",
       "      <th>Value Footnotes</th>\n",
       "    </tr>\n",
       "  </thead>\n",
       "  <tbody>\n",
       "    <tr>\n",
       "      <th>2370</th>\n",
       "      <td>Zimbabwe</td>\n",
       "      <td>1982</td>\n",
       "      <td>141524</td>\n",
       "      <td>NaN</td>\n",
       "    </tr>\n",
       "    <tr>\n",
       "      <th>2371</th>\n",
       "      <td>Zimbabwe</td>\n",
       "      <td>1977</td>\n",
       "      <td>-101516</td>\n",
       "      <td>NaN</td>\n",
       "    </tr>\n",
       "    <tr>\n",
       "      <th>2372</th>\n",
       "      <td>Zimbabwe</td>\n",
       "      <td>1972</td>\n",
       "      <td>-30360</td>\n",
       "      <td>NaN</td>\n",
       "    </tr>\n",
       "    <tr>\n",
       "      <th>2373</th>\n",
       "      <td>Zimbabwe</td>\n",
       "      <td>1967</td>\n",
       "      <td>-27996</td>\n",
       "      <td>NaN</td>\n",
       "    </tr>\n",
       "    <tr>\n",
       "      <th>2374</th>\n",
       "      <td>Zimbabwe</td>\n",
       "      <td>1962</td>\n",
       "      <td>-10001</td>\n",
       "      <td>NaN</td>\n",
       "    </tr>\n",
       "  </tbody>\n",
       "</table>\n",
       "</div>"
      ],
      "text/plain": [
       "     Country or Area  Year   Value  Value Footnotes\n",
       "2370        Zimbabwe  1982  141524              NaN\n",
       "2371        Zimbabwe  1977 -101516              NaN\n",
       "2372        Zimbabwe  1972  -30360              NaN\n",
       "2373        Zimbabwe  1967  -27996              NaN\n",
       "2374        Zimbabwe  1962  -10001              NaN"
      ]
     },
     "execution_count": 5,
     "metadata": {},
     "output_type": "execute_result"
    }
   ],
   "source": [
    "net_migration.tail()"
   ]
  },
  {
   "cell_type": "code",
   "execution_count": 6,
   "metadata": {
    "collapsed": true
   },
   "outputs": [],
   "source": [
    "net_migration.drop('Value Footnotes', axis=1, inplace=True)"
   ]
  },
  {
   "cell_type": "code",
   "execution_count": 7,
   "metadata": {},
   "outputs": [
    {
     "data": {
      "text/html": [
       "<div>\n",
       "<style>\n",
       "    .dataframe thead tr:only-child th {\n",
       "        text-align: right;\n",
       "    }\n",
       "\n",
       "    .dataframe thead th {\n",
       "        text-align: left;\n",
       "    }\n",
       "\n",
       "    .dataframe tbody tr th {\n",
       "        vertical-align: top;\n",
       "    }\n",
       "</style>\n",
       "<table border=\"1\" class=\"dataframe\">\n",
       "  <thead>\n",
       "    <tr style=\"text-align: right;\">\n",
       "      <th></th>\n",
       "      <th>Country or Area</th>\n",
       "      <th>Year</th>\n",
       "      <th>Value</th>\n",
       "    </tr>\n",
       "  </thead>\n",
       "  <tbody>\n",
       "    <tr>\n",
       "      <th>0</th>\n",
       "      <td>Afghanistan</td>\n",
       "      <td>2012</td>\n",
       "      <td>473007</td>\n",
       "    </tr>\n",
       "    <tr>\n",
       "      <th>1</th>\n",
       "      <td>Afghanistan</td>\n",
       "      <td>2007</td>\n",
       "      <td>-677497</td>\n",
       "    </tr>\n",
       "    <tr>\n",
       "      <th>2</th>\n",
       "      <td>Afghanistan</td>\n",
       "      <td>2002</td>\n",
       "      <td>804120</td>\n",
       "    </tr>\n",
       "    <tr>\n",
       "      <th>3</th>\n",
       "      <td>Afghanistan</td>\n",
       "      <td>1997</td>\n",
       "      <td>-379474</td>\n",
       "    </tr>\n",
       "    <tr>\n",
       "      <th>4</th>\n",
       "      <td>Afghanistan</td>\n",
       "      <td>1992</td>\n",
       "      <td>2227474</td>\n",
       "    </tr>\n",
       "    <tr>\n",
       "      <th>5</th>\n",
       "      <td>Afghanistan</td>\n",
       "      <td>1987</td>\n",
       "      <td>-1484185</td>\n",
       "    </tr>\n",
       "  </tbody>\n",
       "</table>\n",
       "</div>"
      ],
      "text/plain": [
       "  Country or Area  Year    Value\n",
       "0     Afghanistan  2012   473007\n",
       "1     Afghanistan  2007  -677497\n",
       "2     Afghanistan  2002   804120\n",
       "3     Afghanistan  1997  -379474\n",
       "4     Afghanistan  1992  2227474\n",
       "5     Afghanistan  1987 -1484185"
      ]
     },
     "execution_count": 7,
     "metadata": {},
     "output_type": "execute_result"
    }
   ],
   "source": [
    "net_migration.head(6)"
   ]
  },
  {
   "cell_type": "code",
   "execution_count": 8,
   "metadata": {
    "collapsed": true,
    "scrolled": true
   },
   "outputs": [],
   "source": [
    "net_migration.columns = ['Country', 'Year', 'Net_Migration']"
   ]
  },
  {
   "cell_type": "code",
   "execution_count": 9,
   "metadata": {},
   "outputs": [
    {
     "data": {
      "text/html": [
       "<div>\n",
       "<style>\n",
       "    .dataframe thead tr:only-child th {\n",
       "        text-align: right;\n",
       "    }\n",
       "\n",
       "    .dataframe thead th {\n",
       "        text-align: left;\n",
       "    }\n",
       "\n",
       "    .dataframe tbody tr th {\n",
       "        vertical-align: top;\n",
       "    }\n",
       "</style>\n",
       "<table border=\"1\" class=\"dataframe\">\n",
       "  <thead>\n",
       "    <tr style=\"text-align: right;\">\n",
       "      <th></th>\n",
       "      <th>Country</th>\n",
       "      <th>Year</th>\n",
       "      <th>Net_Migration</th>\n",
       "    </tr>\n",
       "  </thead>\n",
       "  <tbody>\n",
       "    <tr>\n",
       "      <th>2370</th>\n",
       "      <td>Zimbabwe</td>\n",
       "      <td>1982</td>\n",
       "      <td>141524</td>\n",
       "    </tr>\n",
       "    <tr>\n",
       "      <th>2371</th>\n",
       "      <td>Zimbabwe</td>\n",
       "      <td>1977</td>\n",
       "      <td>-101516</td>\n",
       "    </tr>\n",
       "    <tr>\n",
       "      <th>2372</th>\n",
       "      <td>Zimbabwe</td>\n",
       "      <td>1972</td>\n",
       "      <td>-30360</td>\n",
       "    </tr>\n",
       "    <tr>\n",
       "      <th>2373</th>\n",
       "      <td>Zimbabwe</td>\n",
       "      <td>1967</td>\n",
       "      <td>-27996</td>\n",
       "    </tr>\n",
       "    <tr>\n",
       "      <th>2374</th>\n",
       "      <td>Zimbabwe</td>\n",
       "      <td>1962</td>\n",
       "      <td>-10001</td>\n",
       "    </tr>\n",
       "  </tbody>\n",
       "</table>\n",
       "</div>"
      ],
      "text/plain": [
       "       Country  Year  Net_Migration\n",
       "2370  Zimbabwe  1982         141524\n",
       "2371  Zimbabwe  1977        -101516\n",
       "2372  Zimbabwe  1972         -30360\n",
       "2373  Zimbabwe  1967         -27996\n",
       "2374  Zimbabwe  1962         -10001"
      ]
     },
     "execution_count": 9,
     "metadata": {},
     "output_type": "execute_result"
    }
   ],
   "source": [
    "net_migration.tail()"
   ]
  },
  {
   "cell_type": "code",
   "execution_count": 10,
   "metadata": {},
   "outputs": [
    {
     "data": {
      "text/html": [
       "<div>\n",
       "<style>\n",
       "    .dataframe thead tr:only-child th {\n",
       "        text-align: right;\n",
       "    }\n",
       "\n",
       "    .dataframe thead th {\n",
       "        text-align: left;\n",
       "    }\n",
       "\n",
       "    .dataframe tbody tr th {\n",
       "        vertical-align: top;\n",
       "    }\n",
       "</style>\n",
       "<table border=\"1\" class=\"dataframe\">\n",
       "  <thead>\n",
       "    <tr style=\"text-align: right;\">\n",
       "      <th></th>\n",
       "      <th>Country</th>\n",
       "      <th>Year</th>\n",
       "      <th>Net_Migration</th>\n",
       "    </tr>\n",
       "  </thead>\n",
       "  <tbody>\n",
       "    <tr>\n",
       "      <th>0</th>\n",
       "      <td>Afghanistan</td>\n",
       "      <td>2012</td>\n",
       "      <td>473007</td>\n",
       "    </tr>\n",
       "    <tr>\n",
       "      <th>1</th>\n",
       "      <td>Afghanistan</td>\n",
       "      <td>2007</td>\n",
       "      <td>-677497</td>\n",
       "    </tr>\n",
       "    <tr>\n",
       "      <th>2</th>\n",
       "      <td>Afghanistan</td>\n",
       "      <td>2002</td>\n",
       "      <td>804120</td>\n",
       "    </tr>\n",
       "    <tr>\n",
       "      <th>3</th>\n",
       "      <td>Afghanistan</td>\n",
       "      <td>1997</td>\n",
       "      <td>-379474</td>\n",
       "    </tr>\n",
       "    <tr>\n",
       "      <th>4</th>\n",
       "      <td>Afghanistan</td>\n",
       "      <td>1992</td>\n",
       "      <td>2227474</td>\n",
       "    </tr>\n",
       "  </tbody>\n",
       "</table>\n",
       "</div>"
      ],
      "text/plain": [
       "       Country  Year  Net_Migration\n",
       "0  Afghanistan  2012         473007\n",
       "1  Afghanistan  2007        -677497\n",
       "2  Afghanistan  2002         804120\n",
       "3  Afghanistan  1997        -379474\n",
       "4  Afghanistan  1992        2227474"
      ]
     },
     "execution_count": 10,
     "metadata": {},
     "output_type": "execute_result"
    }
   ],
   "source": [
    "net_migration.head()"
   ]
  },
  {
   "cell_type": "code",
   "execution_count": 11,
   "metadata": {
    "collapsed": true
   },
   "outputs": [],
   "source": [
    "internet_users=pd.read_csv('Internet_users.csv',nrows=4495 )"
   ]
  },
  {
   "cell_type": "code",
   "execution_count": 12,
   "metadata": {},
   "outputs": [
    {
     "data": {
      "text/html": [
       "<div>\n",
       "<style>\n",
       "    .dataframe thead tr:only-child th {\n",
       "        text-align: right;\n",
       "    }\n",
       "\n",
       "    .dataframe thead th {\n",
       "        text-align: left;\n",
       "    }\n",
       "\n",
       "    .dataframe tbody tr th {\n",
       "        vertical-align: top;\n",
       "    }\n",
       "</style>\n",
       "<table border=\"1\" class=\"dataframe\">\n",
       "  <thead>\n",
       "    <tr style=\"text-align: right;\">\n",
       "      <th></th>\n",
       "      <th>Country or Area</th>\n",
       "      <th>Year</th>\n",
       "      <th>Value</th>\n",
       "      <th>Value Footnotes</th>\n",
       "    </tr>\n",
       "  </thead>\n",
       "  <tbody>\n",
       "    <tr>\n",
       "      <th>0</th>\n",
       "      <td>Afghanistan</td>\n",
       "      <td>2014</td>\n",
       "      <td>6.390000</td>\n",
       "      <td>NaN</td>\n",
       "    </tr>\n",
       "    <tr>\n",
       "      <th>1</th>\n",
       "      <td>Afghanistan</td>\n",
       "      <td>2013</td>\n",
       "      <td>5.900000</td>\n",
       "      <td>NaN</td>\n",
       "    </tr>\n",
       "    <tr>\n",
       "      <th>2</th>\n",
       "      <td>Afghanistan</td>\n",
       "      <td>2012</td>\n",
       "      <td>5.454545</td>\n",
       "      <td>NaN</td>\n",
       "    </tr>\n",
       "    <tr>\n",
       "      <th>3</th>\n",
       "      <td>Afghanistan</td>\n",
       "      <td>2011</td>\n",
       "      <td>5.000000</td>\n",
       "      <td>NaN</td>\n",
       "    </tr>\n",
       "    <tr>\n",
       "      <th>4</th>\n",
       "      <td>Afghanistan</td>\n",
       "      <td>2010</td>\n",
       "      <td>4.000000</td>\n",
       "      <td>NaN</td>\n",
       "    </tr>\n",
       "  </tbody>\n",
       "</table>\n",
       "</div>"
      ],
      "text/plain": [
       "  Country or Area  Year     Value  Value Footnotes\n",
       "0     Afghanistan  2014  6.390000              NaN\n",
       "1     Afghanistan  2013  5.900000              NaN\n",
       "2     Afghanistan  2012  5.454545              NaN\n",
       "3     Afghanistan  2011  5.000000              NaN\n",
       "4     Afghanistan  2010  4.000000              NaN"
      ]
     },
     "execution_count": 12,
     "metadata": {},
     "output_type": "execute_result"
    }
   ],
   "source": [
    "internet_users.head()"
   ]
  },
  {
   "cell_type": "code",
   "execution_count": 13,
   "metadata": {},
   "outputs": [
    {
     "data": {
      "text/html": [
       "<div>\n",
       "<style>\n",
       "    .dataframe thead tr:only-child th {\n",
       "        text-align: right;\n",
       "    }\n",
       "\n",
       "    .dataframe thead th {\n",
       "        text-align: left;\n",
       "    }\n",
       "\n",
       "    .dataframe tbody tr th {\n",
       "        vertical-align: top;\n",
       "    }\n",
       "</style>\n",
       "<table border=\"1\" class=\"dataframe\">\n",
       "  <thead>\n",
       "    <tr style=\"text-align: right;\">\n",
       "      <th></th>\n",
       "      <th>Country or Area</th>\n",
       "      <th>Year</th>\n",
       "      <th>Value</th>\n",
       "      <th>Value Footnotes</th>\n",
       "    </tr>\n",
       "  </thead>\n",
       "  <tbody>\n",
       "    <tr>\n",
       "      <th>4490</th>\n",
       "      <td>Zimbabwe</td>\n",
       "      <td>1997</td>\n",
       "      <td>0.033080</td>\n",
       "      <td>NaN</td>\n",
       "    </tr>\n",
       "    <tr>\n",
       "      <th>4491</th>\n",
       "      <td>Zimbabwe</td>\n",
       "      <td>1996</td>\n",
       "      <td>0.016790</td>\n",
       "      <td>NaN</td>\n",
       "    </tr>\n",
       "    <tr>\n",
       "      <th>4492</th>\n",
       "      <td>Zimbabwe</td>\n",
       "      <td>1995</td>\n",
       "      <td>0.007684</td>\n",
       "      <td>NaN</td>\n",
       "    </tr>\n",
       "    <tr>\n",
       "      <th>4493</th>\n",
       "      <td>Zimbabwe</td>\n",
       "      <td>1994</td>\n",
       "      <td>0.001739</td>\n",
       "      <td>NaN</td>\n",
       "    </tr>\n",
       "    <tr>\n",
       "      <th>4494</th>\n",
       "      <td>Zimbabwe</td>\n",
       "      <td>1990</td>\n",
       "      <td>0.000000</td>\n",
       "      <td>NaN</td>\n",
       "    </tr>\n",
       "  </tbody>\n",
       "</table>\n",
       "</div>"
      ],
      "text/plain": [
       "     Country or Area  Year     Value  Value Footnotes\n",
       "4490        Zimbabwe  1997  0.033080              NaN\n",
       "4491        Zimbabwe  1996  0.016790              NaN\n",
       "4492        Zimbabwe  1995  0.007684              NaN\n",
       "4493        Zimbabwe  1994  0.001739              NaN\n",
       "4494        Zimbabwe  1990  0.000000              NaN"
      ]
     },
     "execution_count": 13,
     "metadata": {},
     "output_type": "execute_result"
    }
   ],
   "source": [
    "internet_users.tail()"
   ]
  },
  {
   "cell_type": "code",
   "execution_count": 14,
   "metadata": {
    "collapsed": true
   },
   "outputs": [],
   "source": [
    "internet_users.drop('Value Footnotes', axis=1, inplace=True)"
   ]
  },
  {
   "cell_type": "code",
   "execution_count": 15,
   "metadata": {},
   "outputs": [
    {
     "data": {
      "text/html": [
       "<div>\n",
       "<style>\n",
       "    .dataframe thead tr:only-child th {\n",
       "        text-align: right;\n",
       "    }\n",
       "\n",
       "    .dataframe thead th {\n",
       "        text-align: left;\n",
       "    }\n",
       "\n",
       "    .dataframe tbody tr th {\n",
       "        vertical-align: top;\n",
       "    }\n",
       "</style>\n",
       "<table border=\"1\" class=\"dataframe\">\n",
       "  <thead>\n",
       "    <tr style=\"text-align: right;\">\n",
       "      <th></th>\n",
       "      <th>Country or Area</th>\n",
       "      <th>Year</th>\n",
       "      <th>Value</th>\n",
       "    </tr>\n",
       "  </thead>\n",
       "  <tbody>\n",
       "    <tr>\n",
       "      <th>0</th>\n",
       "      <td>Afghanistan</td>\n",
       "      <td>2014</td>\n",
       "      <td>6.390000</td>\n",
       "    </tr>\n",
       "    <tr>\n",
       "      <th>1</th>\n",
       "      <td>Afghanistan</td>\n",
       "      <td>2013</td>\n",
       "      <td>5.900000</td>\n",
       "    </tr>\n",
       "    <tr>\n",
       "      <th>2</th>\n",
       "      <td>Afghanistan</td>\n",
       "      <td>2012</td>\n",
       "      <td>5.454545</td>\n",
       "    </tr>\n",
       "    <tr>\n",
       "      <th>3</th>\n",
       "      <td>Afghanistan</td>\n",
       "      <td>2011</td>\n",
       "      <td>5.000000</td>\n",
       "    </tr>\n",
       "    <tr>\n",
       "      <th>4</th>\n",
       "      <td>Afghanistan</td>\n",
       "      <td>2010</td>\n",
       "      <td>4.000000</td>\n",
       "    </tr>\n",
       "    <tr>\n",
       "      <th>5</th>\n",
       "      <td>Afghanistan</td>\n",
       "      <td>2009</td>\n",
       "      <td>3.550000</td>\n",
       "    </tr>\n",
       "  </tbody>\n",
       "</table>\n",
       "</div>"
      ],
      "text/plain": [
       "  Country or Area  Year     Value\n",
       "0     Afghanistan  2014  6.390000\n",
       "1     Afghanistan  2013  5.900000\n",
       "2     Afghanistan  2012  5.454545\n",
       "3     Afghanistan  2011  5.000000\n",
       "4     Afghanistan  2010  4.000000\n",
       "5     Afghanistan  2009  3.550000"
      ]
     },
     "execution_count": 15,
     "metadata": {},
     "output_type": "execute_result"
    }
   ],
   "source": [
    "internet_users.head(6)"
   ]
  },
  {
   "cell_type": "code",
   "execution_count": 16,
   "metadata": {
    "collapsed": true
   },
   "outputs": [],
   "source": [
    "internet_users.columns = ['Country', 'Year', 'internet_users']"
   ]
  },
  {
   "cell_type": "code",
   "execution_count": 17,
   "metadata": {},
   "outputs": [
    {
     "data": {
      "text/html": [
       "<div>\n",
       "<style>\n",
       "    .dataframe thead tr:only-child th {\n",
       "        text-align: right;\n",
       "    }\n",
       "\n",
       "    .dataframe thead th {\n",
       "        text-align: left;\n",
       "    }\n",
       "\n",
       "    .dataframe tbody tr th {\n",
       "        vertical-align: top;\n",
       "    }\n",
       "</style>\n",
       "<table border=\"1\" class=\"dataframe\">\n",
       "  <thead>\n",
       "    <tr style=\"text-align: right;\">\n",
       "      <th></th>\n",
       "      <th>Country</th>\n",
       "      <th>Year</th>\n",
       "      <th>internet_users</th>\n",
       "    </tr>\n",
       "  </thead>\n",
       "  <tbody>\n",
       "    <tr>\n",
       "      <th>0</th>\n",
       "      <td>Afghanistan</td>\n",
       "      <td>2014</td>\n",
       "      <td>6.390000</td>\n",
       "    </tr>\n",
       "    <tr>\n",
       "      <th>1</th>\n",
       "      <td>Afghanistan</td>\n",
       "      <td>2013</td>\n",
       "      <td>5.900000</td>\n",
       "    </tr>\n",
       "    <tr>\n",
       "      <th>2</th>\n",
       "      <td>Afghanistan</td>\n",
       "      <td>2012</td>\n",
       "      <td>5.454545</td>\n",
       "    </tr>\n",
       "    <tr>\n",
       "      <th>3</th>\n",
       "      <td>Afghanistan</td>\n",
       "      <td>2011</td>\n",
       "      <td>5.000000</td>\n",
       "    </tr>\n",
       "    <tr>\n",
       "      <th>4</th>\n",
       "      <td>Afghanistan</td>\n",
       "      <td>2010</td>\n",
       "      <td>4.000000</td>\n",
       "    </tr>\n",
       "  </tbody>\n",
       "</table>\n",
       "</div>"
      ],
      "text/plain": [
       "       Country  Year  internet_users\n",
       "0  Afghanistan  2014        6.390000\n",
       "1  Afghanistan  2013        5.900000\n",
       "2  Afghanistan  2012        5.454545\n",
       "3  Afghanistan  2011        5.000000\n",
       "4  Afghanistan  2010        4.000000"
      ]
     },
     "execution_count": 17,
     "metadata": {},
     "output_type": "execute_result"
    }
   ],
   "source": [
    "internet_users.head()"
   ]
  },
  {
   "cell_type": "code",
   "execution_count": 18,
   "metadata": {},
   "outputs": [
    {
     "name": "stdout",
     "output_type": "stream",
     "text": [
      "<class 'pandas.core.frame.DataFrame'>\n"
     ]
    }
   ],
   "source": [
    "print(type(internet_users))"
   ]
  },
  {
   "cell_type": "code",
   "execution_count": 19,
   "metadata": {
    "collapsed": true
   },
   "outputs": [],
   "source": [
    "merged_MI=pd.merge(net_migration, internet_users ,how='inner',on=('Country','Year'))"
   ]
  },
  {
   "cell_type": "code",
   "execution_count": 20,
   "metadata": {},
   "outputs": [
    {
     "name": "stdout",
     "output_type": "stream",
     "text": [
      "       Country  Year  Net_Migration  internet_users\n",
      "0  Afghanistan  2012         473007        5.454545\n",
      "1  Afghanistan  2007        -677497        1.900000\n",
      "2  Afghanistan  2002         804120        0.004561\n",
      "3      Albania  2012         -91750       54.655959\n",
      "4      Albania  2007        -252926       15.036115\n"
     ]
    }
   ],
   "source": [
    "print(merged_MI.head())"
   ]
  },
  {
   "cell_type": "code",
   "execution_count": 21,
   "metadata": {},
   "outputs": [
    {
     "data": {
      "text/html": [
       "<div>\n",
       "<style>\n",
       "    .dataframe thead tr:only-child th {\n",
       "        text-align: right;\n",
       "    }\n",
       "\n",
       "    .dataframe thead th {\n",
       "        text-align: left;\n",
       "    }\n",
       "\n",
       "    .dataframe tbody tr th {\n",
       "        vertical-align: top;\n",
       "    }\n",
       "</style>\n",
       "<table border=\"1\" class=\"dataframe\">\n",
       "  <thead>\n",
       "    <tr style=\"text-align: right;\">\n",
       "      <th></th>\n",
       "      <th>Country</th>\n",
       "      <th>Year</th>\n",
       "      <th>Net_Migration</th>\n",
       "      <th>internet_users</th>\n",
       "    </tr>\n",
       "  </thead>\n",
       "  <tbody>\n",
       "    <tr>\n",
       "      <th>0</th>\n",
       "      <td>Afghanistan</td>\n",
       "      <td>2012</td>\n",
       "      <td>473007</td>\n",
       "      <td>5.454545</td>\n",
       "    </tr>\n",
       "    <tr>\n",
       "      <th>1</th>\n",
       "      <td>Afghanistan</td>\n",
       "      <td>2007</td>\n",
       "      <td>-677497</td>\n",
       "      <td>1.900000</td>\n",
       "    </tr>\n",
       "    <tr>\n",
       "      <th>2</th>\n",
       "      <td>Afghanistan</td>\n",
       "      <td>2002</td>\n",
       "      <td>804120</td>\n",
       "      <td>0.004561</td>\n",
       "    </tr>\n",
       "    <tr>\n",
       "      <th>3</th>\n",
       "      <td>Albania</td>\n",
       "      <td>2012</td>\n",
       "      <td>-91750</td>\n",
       "      <td>54.655959</td>\n",
       "    </tr>\n",
       "    <tr>\n",
       "      <th>4</th>\n",
       "      <td>Albania</td>\n",
       "      <td>2007</td>\n",
       "      <td>-252926</td>\n",
       "      <td>15.036115</td>\n",
       "    </tr>\n",
       "    <tr>\n",
       "      <th>5</th>\n",
       "      <td>Albania</td>\n",
       "      <td>2002</td>\n",
       "      <td>-175406</td>\n",
       "      <td>0.390081</td>\n",
       "    </tr>\n",
       "  </tbody>\n",
       "</table>\n",
       "</div>"
      ],
      "text/plain": [
       "       Country  Year  Net_Migration  internet_users\n",
       "0  Afghanistan  2012         473007        5.454545\n",
       "1  Afghanistan  2007        -677497        1.900000\n",
       "2  Afghanistan  2002         804120        0.004561\n",
       "3      Albania  2012         -91750       54.655959\n",
       "4      Albania  2007        -252926       15.036115\n",
       "5      Albania  2002        -175406        0.390081"
      ]
     },
     "execution_count": 21,
     "metadata": {},
     "output_type": "execute_result"
    }
   ],
   "source": [
    "merged_MI.head(6)"
   ]
  },
  {
   "cell_type": "code",
   "execution_count": 22,
   "metadata": {},
   "outputs": [
    {
     "data": {
      "text/html": [
       "<div>\n",
       "<style>\n",
       "    .dataframe thead tr:only-child th {\n",
       "        text-align: right;\n",
       "    }\n",
       "\n",
       "    .dataframe thead th {\n",
       "        text-align: left;\n",
       "    }\n",
       "\n",
       "    .dataframe tbody tr th {\n",
       "        vertical-align: top;\n",
       "    }\n",
       "</style>\n",
       "<table border=\"1\" class=\"dataframe\">\n",
       "  <thead>\n",
       "    <tr style=\"text-align: right;\">\n",
       "      <th></th>\n",
       "      <th>Country</th>\n",
       "      <th>Year</th>\n",
       "      <th>Net_Migration</th>\n",
       "      <th>internet_users</th>\n",
       "    </tr>\n",
       "  </thead>\n",
       "  <tbody>\n",
       "    <tr>\n",
       "      <th>709</th>\n",
       "      <td>Zambia</td>\n",
       "      <td>2002</td>\n",
       "      <td>-93014</td>\n",
       "      <td>0.477751</td>\n",
       "    </tr>\n",
       "    <tr>\n",
       "      <th>710</th>\n",
       "      <td>Zambia</td>\n",
       "      <td>1997</td>\n",
       "      <td>79445</td>\n",
       "      <td>0.009330</td>\n",
       "    </tr>\n",
       "    <tr>\n",
       "      <th>711</th>\n",
       "      <td>Zimbabwe</td>\n",
       "      <td>2012</td>\n",
       "      <td>-219922</td>\n",
       "      <td>17.090000</td>\n",
       "    </tr>\n",
       "    <tr>\n",
       "      <th>712</th>\n",
       "      <td>Zimbabwe</td>\n",
       "      <td>2007</td>\n",
       "      <td>-307650</td>\n",
       "      <td>10.850000</td>\n",
       "    </tr>\n",
       "    <tr>\n",
       "      <th>713</th>\n",
       "      <td>Zimbabwe</td>\n",
       "      <td>2002</td>\n",
       "      <td>-395554</td>\n",
       "      <td>3.994356</td>\n",
       "    </tr>\n",
       "    <tr>\n",
       "      <th>714</th>\n",
       "      <td>Zimbabwe</td>\n",
       "      <td>1997</td>\n",
       "      <td>-200000</td>\n",
       "      <td>0.033080</td>\n",
       "    </tr>\n",
       "  </tbody>\n",
       "</table>\n",
       "</div>"
      ],
      "text/plain": [
       "      Country  Year  Net_Migration  internet_users\n",
       "709    Zambia  2002         -93014        0.477751\n",
       "710    Zambia  1997          79445        0.009330\n",
       "711  Zimbabwe  2012        -219922       17.090000\n",
       "712  Zimbabwe  2007        -307650       10.850000\n",
       "713  Zimbabwe  2002        -395554        3.994356\n",
       "714  Zimbabwe  1997        -200000        0.033080"
      ]
     },
     "execution_count": 22,
     "metadata": {},
     "output_type": "execute_result"
    }
   ],
   "source": [
    "merged_MI.tail(6)"
   ]
  },
  {
   "cell_type": "code",
   "execution_count": 23,
   "metadata": {
    "collapsed": true
   },
   "outputs": [],
   "source": [
    "subset_MI=merged_MI[(merged_MI.Year == 2002)| (merged_MI.Year == 2007)| (merged_MI.Year == 2012)]"
   ]
  },
  {
   "cell_type": "code",
   "execution_count": 24,
   "metadata": {},
   "outputs": [
    {
     "name": "stdout",
     "output_type": "stream",
     "text": [
      "       Country  Year  Net_Migration  internet_users\n",
      "0  Afghanistan  2012         473007        5.454545\n",
      "1  Afghanistan  2007        -677497        1.900000\n",
      "2  Afghanistan  2002         804120        0.004561\n",
      "3      Albania  2012         -91750       54.655959\n",
      "4      Albania  2007        -252926       15.036115\n"
     ]
    }
   ],
   "source": [
    "print(subset_MI.head())"
   ]
  },
  {
   "cell_type": "code",
   "execution_count": 25,
   "metadata": {
    "collapsed": true
   },
   "outputs": [],
   "source": [
    "Subset_2002=merged_MI[(merged_MI.Year == 2002)]\n",
    "Subset_2007=merged_MI[(merged_MI.Year == 2007)]\n",
    "Subset_2012=merged_MI[(merged_MI.Year == 2012)]\n"
   ]
  },
  {
   "cell_type": "code",
   "execution_count": 26,
   "metadata": {},
   "outputs": [
    {
     "name": "stdout",
     "output_type": "stream",
     "text": [
      "                            Country  Year  Net_Migration  internet_users\n",
      "2                       Afghanistan  2002         804120        0.004561\n",
      "5                           Albania  2002        -175406        0.390081\n",
      "9                           Algeria  2002        -205228        1.591641\n",
      "13                           Angola  2002         172594        0.270377\n",
      "17              Antigua and Barbuda  2002           -282       12.500000\n",
      "21                        Argentina  2002         -90000       10.882124\n",
      "26                          Armenia  2002        -143966        1.960405\n",
      "30                            Aruba  2002           6263       18.800000\n",
      "37                          Austria  2002         178117       36.560000\n",
      "42                       Azerbaijan  2002          10655        4.999714\n",
      "46                          Bahrain  2002         133500       18.050721\n",
      "50                       Bangladesh  2002       -1700003        0.139920\n",
      "54                         Barbados  2002            -77       27.836322\n",
      "58                          Belarus  2002          -6382        8.950971\n",
      "62                          Belgium  2002         247560       46.330000\n",
      "67                           Belize  2002           5797        5.684251\n",
      "71                            Benin  2002          98831        0.702946\n",
      "75                           Bhutan  2002          34976        1.675803\n",
      "78                          Bolivia  2002         -89995        3.117193\n",
      "82           Bosnia and Herzegovina  2002          34820        2.648268\n",
      "86                         Botswana  2002          21278        3.385922\n",
      "93                           Brazil  2002              0        9.149425\n",
      "98                Brunei Darussalam  2002           2294       15.329880\n",
      "102                        Bulgaria  2002         -83002        9.080000\n",
      "106                    Burkina Faso  2002        -125000        0.200993\n",
      "110                         Burundi  2002         112532        0.118228\n",
      "118                        Cambodia  2002         -35156        0.226983\n",
      "122                        Cameroon  2002         -90000        0.360872\n",
      "126                          Canada  2002        1026702       61.593299\n",
      "131                      Cape Verde  2002          -9859        3.518757\n",
      "..                              ...   ...            ...             ...\n",
      "586                    South Africa  2002        1072076        6.710322\n",
      "591                           Spain  2002        2829228       20.390000\n",
      "596                       Sri Lanka  2002        -449480        1.050423\n",
      "600  St. Vincent and the Grenadines  2002          -5200        5.549595\n",
      "604                           Sudan  2002        -430000        0.439478\n",
      "608                        Suriname  2002         -22142        4.161569\n",
      "612                       Swaziland  2002         -46077        1.816204\n",
      "616                          Sweden  2002         141723       70.570000\n",
      "621                     Switzerland  2002         186125       61.400000\n",
      "626                      Tajikistan  2002         -96542        0.055463\n",
      "629                        Tanzania  2002        -295952        0.222484\n",
      "633                        Thailand  2002        1102862        7.531250\n",
      "641                     Timor-Leste  2002             12        0.000000\n",
      "644                            Togo  2002          -9994        1.000000\n",
      "652                           Tonga  2002          -8129        2.907297\n",
      "656             Trinidad and Tobago  2002         -13159       21.998675\n",
      "660                         Tunisia  2002        -139045        5.252887\n",
      "664                          Turkey  2002        -100002       11.380000\n",
      "668                    Turkmenistan  2002        -114454        0.302132\n",
      "671                          Uganda  2002          -5000        0.384094\n",
      "675                         Ukraine  2002        -165445        1.873885\n",
      "679            United Arab Emirates  2002        1180000       28.316485\n",
      "683                  United Kingdom  2002         968350       56.480000\n",
      "688                   United States  2002        5149157       58.785404\n",
      "693                         Uruguay  2002        -104000       11.419470\n",
      "697                      Uzbekistan  2002        -449997        1.081940\n",
      "701                         Vanuatu  2002           -502        3.510039\n",
      "705           Virgin Islands (U.S.)  2002          -5272       27.494432\n",
      "709                          Zambia  2002         -93014        0.477751\n",
      "713                        Zimbabwe  2002        -395554        3.994356\n",
      "\n",
      "[164 rows x 4 columns]\n",
      "                            Country  Year  Net_Migration  internet_users\n",
      "1                       Afghanistan  2007        -677497        1.900000\n",
      "4                           Albania  2007        -252926       15.036115\n",
      "8                           Algeria  2007        -357340        9.451191\n",
      "12                           Angola  2007          85286        3.200000\n",
      "16              Antigua and Barbuda  2007            -92       34.000000\n",
      "20                        Argentina  2007         -84998       25.946633\n",
      "25                          Armenia  2007        -136009        6.021253\n",
      "29                            Aruba  2007           -441       30.900000\n",
      "32                        Australia  2007        1132688       69.450000\n",
      "36                          Austria  2007         153763       69.370000\n",
      "41                       Azerbaijan  2007         -96798       14.540000\n",
      "45                          Bahrain  2007         316544       32.910000\n",
      "49                       Bangladesh  2007       -3570954        1.800000\n",
      "53                         Barbados  2007           2050       58.200000\n",
      "57                          Belarus  2007          63933       19.700000\n",
      "61                          Belgium  2007         267204       64.440000\n",
      "66                           Belize  2007           8722       24.600000\n",
      "70                            Benin  2007          50000        1.790000\n",
      "74                           Bhutan  2007          16829        5.920000\n",
      "77                          Bolivia  2007         -84003       10.499244\n",
      "81           Bosnia and Herzegovina  2007           3677       27.920000\n",
      "85                         Botswana  2007          18730        5.280000\n",
      "92                           Brazil  2007              0       30.880000\n",
      "97                Brunei Darussalam  2007           2441       44.680000\n",
      "101                        Bulgaria  2007         -83002       33.640000\n",
      "105                    Burkina Faso  2007        -125000        0.750000\n",
      "109                         Burundi  2007         163733        0.700000\n",
      "117                        Cambodia  2007        -295987        0.490000\n",
      "121                        Cameroon  2007         -90000        2.930000\n",
      "125                          Canada  2007        1229905       73.200000\n",
      "..                              ...   ...            ...             ...\n",
      "585                    South Africa  2007        1402640        8.065375\n",
      "590                           Spain  2007        2250005       55.110000\n",
      "595                       Sri Lanka  2007        -520065        3.880000\n",
      "599  St. Vincent and the Grenadines  2007          -5122       16.000000\n",
      "603                           Sudan  2007        -500000        8.660000\n",
      "607                        Suriname  2007          -5675       14.110000\n",
      "611                       Swaziland  2007          -6000        4.100000\n",
      "615                          Sweden  2007         262453       82.010000\n",
      "620                     Switzerland  2007         344872       77.200000\n",
      "625                      Tajikistan  2007         -65435        7.197620\n",
      "628                        Tanzania  2007        -265317        1.600000\n",
      "632                        Thailand  2007        -858537       20.030000\n",
      "640                     Timor-Leste  2007        -104946        0.140959\n",
      "643                            Togo  2007          -9994        2.200000\n",
      "651                           Tonga  2007          -8196        7.179865\n",
      "655             Trinidad and Tobago  2007         -11303       32.300000\n",
      "659                         Tunisia  2007         -32941       17.100000\n",
      "663                          Turkey  2007         -50000       28.630000\n",
      "667                    Turkmenistan  2007         -57048        1.406361\n",
      "670                          Uganda  2007        -135000        3.671965\n",
      "674                         Ukraine  2007         235195        6.550000\n",
      "678            United Arab Emirates  2007        3493000       61.000000\n",
      "682                  United Kingdom  2007        1523939       75.090000\n",
      "687                   United States  2007        5070253       75.000000\n",
      "692                         Uruguay  2007         -50000       34.000000\n",
      "696                      Uzbekistan  2007        -290000        7.490605\n",
      "700                         Vanuatu  2007           1135        6.800000\n",
      "704           Virgin Islands (U.S.)  2007          -6191       27.339336\n",
      "708                          Zambia  2007        -124044        4.870000\n",
      "712                        Zimbabwe  2007        -307650       10.850000\n",
      "\n",
      "[168 rows x 4 columns]\n",
      "                            Country  Year  Net_Migration  internet_users\n",
      "0                       Afghanistan  2012         473007        5.454545\n",
      "3                           Albania  2012         -91750       54.655959\n",
      "7                           Algeria  2012        -143268       15.228027\n",
      "11                           Angola  2012         102322       16.937210\n",
      "15              Antigua and Barbuda  2012            -56       58.000000\n",
      "19                        Argentina  2012          30000       55.800000\n",
      "24                          Armenia  2012          -9876       37.500000\n",
      "28                            Aruba  2012           1253       74.000000\n",
      "31                        Australia  2012        1023107       79.000000\n",
      "35                          Austria  2012         147089       80.029994\n",
      "40                       Azerbaijan  2012         -16125       54.200000\n",
      "44                          Bahrain  2012          29915       88.000000\n",
      "48                       Bangladesh  2012       -2226481        5.000000\n",
      "52                         Barbados  2012           2180       70.000000\n",
      "56                          Belarus  2012         120535       46.910000\n",
      "60                          Belgium  2012         269998       80.719991\n",
      "65                           Belize  2012           7594       31.000000\n",
      "69                            Benin  2012         -10000        4.500000\n",
      "73                           Bhutan  2012          10000       24.000000\n",
      "76                          Bolivia  2012         -61794       35.340000\n",
      "80           Bosnia and Herzegovina  2012          -2506       52.780000\n",
      "84                         Botswana  2012          20000       11.500000\n",
      "91                           Brazil  2012          15924       48.560000\n",
      "96                Brunei Darussalam  2012           2102       60.273065\n",
      "100                        Bulgaria  2012         -50000       51.899988\n",
      "104                    Burkina Faso  2012        -125000        3.725035\n",
      "108                         Burundi  2012          40000        1.220000\n",
      "116                        Cambodia  2012        -149999        4.940000\n",
      "120                        Cameroon  2012         -60000        5.698987\n",
      "124                          Canada  2012        1175863       83.000000\n",
      "..                              ...   ...            ...             ...\n",
      "584                    South Africa  2012         600000       41.000000\n",
      "589                           Spain  2012        -593069       69.810000\n",
      "594                       Sri Lanka  2012        -484772       18.285400\n",
      "598  St. Vincent and the Grenadines  2012          -5000       47.520000\n",
      "602                           Sudan  2012        -800000       21.000000\n",
      "606                        Suriname  2012          -5000       34.681200\n",
      "610                       Swaziland  2012          -6000       20.781783\n",
      "614                          Sweden  2012         272626       93.179988\n",
      "619                     Switzerland  2012         382267       85.200000\n",
      "624                      Tajikistan  2012        -117382       14.510000\n",
      "627                        Tanzania  2012        -199999        3.950000\n",
      "631                        Thailand  2012         100000       26.460000\n",
      "639                     Timor-Leste  2012         -50004        0.914700\n",
      "642                            Togo  2012          -9994        4.000000\n",
      "650                           Tonga  2012          -8078       33.000000\n",
      "654             Trinidad and Tobago  2012          -5000       59.516200\n",
      "658                         Tunisia  2012         -32941       41.441600\n",
      "662                          Turkey  2012        2000003       45.130000\n",
      "666                    Turkmenistan  2012         -25001        7.195800\n",
      "669                          Uganda  2012        -150000       14.689600\n",
      "673                         Ukraine  2012         195000       35.270000\n",
      "677            United Arab Emirates  2012         405000       84.999992\n",
      "681                  United Kingdom  2012         900000       87.479998\n",
      "686                   United States  2012        5007887       79.300000\n",
      "691                         Uruguay  2012         -30000       54.453769\n",
      "695                      Uzbekistan  2012        -195001       36.521300\n",
      "699                         Vanuatu  2012            603       10.598000\n",
      "703           Virgin Islands (U.S.)  2012          -3604       40.547900\n",
      "707                          Zambia  2012         -34490       13.468200\n",
      "711                        Zimbabwe  2012        -219922       17.090000\n",
      "\n",
      "[167 rows x 4 columns]\n"
     ]
    }
   ],
   "source": [
    "print(Subset_2002)\n",
    "print(Subset_2007)\n",
    "print(Subset_2012)"
   ]
  },
  {
   "cell_type": "code",
   "execution_count": 27,
   "metadata": {},
   "outputs": [
    {
     "data": {
      "text/html": [
       "<div>\n",
       "<style>\n",
       "    .dataframe thead tr:only-child th {\n",
       "        text-align: right;\n",
       "    }\n",
       "\n",
       "    .dataframe thead th {\n",
       "        text-align: left;\n",
       "    }\n",
       "\n",
       "    .dataframe tbody tr th {\n",
       "        vertical-align: top;\n",
       "    }\n",
       "</style>\n",
       "<table border=\"1\" class=\"dataframe\">\n",
       "  <thead>\n",
       "    <tr style=\"text-align: right;\">\n",
       "      <th></th>\n",
       "      <th>Year</th>\n",
       "      <th>Net_Migration</th>\n",
       "      <th>internet_users</th>\n",
       "    </tr>\n",
       "  </thead>\n",
       "  <tbody>\n",
       "    <tr>\n",
       "      <th>count</th>\n",
       "      <td>167.0</td>\n",
       "      <td>1.670000e+02</td>\n",
       "      <td>167.000000</td>\n",
       "    </tr>\n",
       "    <tr>\n",
       "      <th>mean</th>\n",
       "      <td>2012.0</td>\n",
       "      <td>2.089486e+04</td>\n",
       "      <td>39.159707</td>\n",
       "    </tr>\n",
       "    <tr>\n",
       "      <th>std</th>\n",
       "      <td>0.0</td>\n",
       "      <td>6.053218e+05</td>\n",
       "      <td>28.490924</td>\n",
       "    </tr>\n",
       "    <tr>\n",
       "      <th>min</th>\n",
       "      <td>2012.0</td>\n",
       "      <td>-2.598218e+06</td>\n",
       "      <td>0.800000</td>\n",
       "    </tr>\n",
       "    <tr>\n",
       "      <th>25%</th>\n",
       "      <td>2012.0</td>\n",
       "      <td>-8.922500e+04</td>\n",
       "      <td>11.324650</td>\n",
       "    </tr>\n",
       "    <tr>\n",
       "      <th>50%</th>\n",
       "      <td>2012.0</td>\n",
       "      <td>-9.529000e+03</td>\n",
       "      <td>36.940000</td>\n",
       "    </tr>\n",
       "    <tr>\n",
       "      <th>75%</th>\n",
       "      <td>2012.0</td>\n",
       "      <td>2.999900e+04</td>\n",
       "      <td>61.333970</td>\n",
       "    </tr>\n",
       "    <tr>\n",
       "      <th>max</th>\n",
       "      <td>2012.0</td>\n",
       "      <td>5.007887e+06</td>\n",
       "      <td>96.209800</td>\n",
       "    </tr>\n",
       "  </tbody>\n",
       "</table>\n",
       "</div>"
      ],
      "text/plain": [
       "         Year  Net_Migration  internet_users\n",
       "count   167.0   1.670000e+02      167.000000\n",
       "mean   2012.0   2.089486e+04       39.159707\n",
       "std       0.0   6.053218e+05       28.490924\n",
       "min    2012.0  -2.598218e+06        0.800000\n",
       "25%    2012.0  -8.922500e+04       11.324650\n",
       "50%    2012.0  -9.529000e+03       36.940000\n",
       "75%    2012.0   2.999900e+04       61.333970\n",
       "max    2012.0   5.007887e+06       96.209800"
      ]
     },
     "execution_count": 27,
     "metadata": {},
     "output_type": "execute_result"
    }
   ],
   "source": [
    "Subset_2012.describe()"
   ]
  },
  {
   "cell_type": "code",
   "execution_count": 28,
   "metadata": {},
   "outputs": [
    {
     "data": {
      "text/html": [
       "<div>\n",
       "<style>\n",
       "    .dataframe thead tr:only-child th {\n",
       "        text-align: right;\n",
       "    }\n",
       "\n",
       "    .dataframe thead th {\n",
       "        text-align: left;\n",
       "    }\n",
       "\n",
       "    .dataframe tbody tr th {\n",
       "        vertical-align: top;\n",
       "    }\n",
       "</style>\n",
       "<table border=\"1\" class=\"dataframe\">\n",
       "  <thead>\n",
       "    <tr style=\"text-align: right;\">\n",
       "      <th></th>\n",
       "      <th>Country</th>\n",
       "      <th>Year</th>\n",
       "      <th>Net_Migration</th>\n",
       "      <th>internet_users</th>\n",
       "    </tr>\n",
       "  </thead>\n",
       "  <tbody>\n",
       "    <tr>\n",
       "      <th>294</th>\n",
       "      <td>Iceland</td>\n",
       "      <td>2012</td>\n",
       "      <td>-378</td>\n",
       "      <td>96.209800</td>\n",
       "    </tr>\n",
       "    <tr>\n",
       "      <th>479</th>\n",
       "      <td>Norway</td>\n",
       "      <td>2012</td>\n",
       "      <td>235665</td>\n",
       "      <td>94.649978</td>\n",
       "    </tr>\n",
       "  </tbody>\n",
       "</table>\n",
       "</div>"
      ],
      "text/plain": [
       "     Country  Year  Net_Migration  internet_users\n",
       "294  Iceland  2012           -378       96.209800\n",
       "479   Norway  2012         235665       94.649978"
      ]
     },
     "execution_count": 28,
     "metadata": {},
     "output_type": "execute_result"
    }
   ],
   "source": [
    "###two possible sets of codes to do sorting \n",
    "Subset_2012.sort_values('internet_users',ascending=False).head(2)\n",
    "###Subset_2012.nlargest(2,'Net_Migration')"
   ]
  },
  {
   "cell_type": "code",
   "execution_count": 29,
   "metadata": {},
   "outputs": [
    {
     "data": {
      "text/html": [
       "<div>\n",
       "<style>\n",
       "    .dataframe thead tr:only-child th {\n",
       "        text-align: right;\n",
       "    }\n",
       "\n",
       "    .dataframe thead th {\n",
       "        text-align: left;\n",
       "    }\n",
       "\n",
       "    .dataframe tbody tr th {\n",
       "        vertical-align: top;\n",
       "    }\n",
       "</style>\n",
       "<table border=\"1\" class=\"dataframe\">\n",
       "  <thead>\n",
       "    <tr style=\"text-align: right;\">\n",
       "      <th></th>\n",
       "      <th>Country</th>\n",
       "      <th>Year</th>\n",
       "      <th>Net_Migration</th>\n",
       "      <th>internet_users</th>\n",
       "    </tr>\n",
       "  </thead>\n",
       "  <tbody>\n",
       "    <tr>\n",
       "      <th>202</th>\n",
       "      <td>Eritrea</td>\n",
       "      <td>2012</td>\n",
       "      <td>-160001</td>\n",
       "      <td>0.8000</td>\n",
       "    </tr>\n",
       "    <tr>\n",
       "      <th>639</th>\n",
       "      <td>Timor-Leste</td>\n",
       "      <td>2012</td>\n",
       "      <td>-50004</td>\n",
       "      <td>0.9147</td>\n",
       "    </tr>\n",
       "  </tbody>\n",
       "</table>\n",
       "</div>"
      ],
      "text/plain": [
       "         Country  Year  Net_Migration  internet_users\n",
       "202      Eritrea  2012        -160001          0.8000\n",
       "639  Timor-Leste  2012         -50004          0.9147"
      ]
     },
     "execution_count": 29,
     "metadata": {},
     "output_type": "execute_result"
    }
   ],
   "source": [
    "Subset_2012.sort_values('internet_users',ascending=True).head(2)\n",
    "##Subset_2012.nsmallest(2,'Net_Migration')"
   ]
  },
  {
   "cell_type": "code",
   "execution_count": 30,
   "metadata": {},
   "outputs": [
    {
     "data": {
      "text/html": [
       "<div>\n",
       "<style>\n",
       "    .dataframe thead tr:only-child th {\n",
       "        text-align: right;\n",
       "    }\n",
       "\n",
       "    .dataframe thead th {\n",
       "        text-align: left;\n",
       "    }\n",
       "\n",
       "    .dataframe tbody tr th {\n",
       "        vertical-align: top;\n",
       "    }\n",
       "</style>\n",
       "<table border=\"1\" class=\"dataframe\">\n",
       "  <thead>\n",
       "    <tr style=\"text-align: right;\">\n",
       "      <th></th>\n",
       "      <th>Country</th>\n",
       "      <th>Year</th>\n",
       "      <th>Net_Migration</th>\n",
       "      <th>internet_users</th>\n",
       "    </tr>\n",
       "  </thead>\n",
       "  <tbody>\n",
       "    <tr>\n",
       "      <th>295</th>\n",
       "      <td>Iceland</td>\n",
       "      <td>2007</td>\n",
       "      <td>8041</td>\n",
       "      <td>90.60</td>\n",
       "    </tr>\n",
       "    <tr>\n",
       "      <th>480</th>\n",
       "      <td>Norway</td>\n",
       "      <td>2007</td>\n",
       "      <td>174001</td>\n",
       "      <td>86.93</td>\n",
       "    </tr>\n",
       "  </tbody>\n",
       "</table>\n",
       "</div>"
      ],
      "text/plain": [
       "     Country  Year  Net_Migration  internet_users\n",
       "295  Iceland  2007           8041           90.60\n",
       "480   Norway  2007         174001           86.93"
      ]
     },
     "execution_count": 30,
     "metadata": {},
     "output_type": "execute_result"
    }
   ],
   "source": [
    "Subset_2007.sort_values('internet_users',ascending=False).head(2)\n"
   ]
  },
  {
   "cell_type": "code",
   "execution_count": 31,
   "metadata": {},
   "outputs": [
    {
     "data": {
      "text/html": [
       "<div>\n",
       "<style>\n",
       "    .dataframe thead tr:only-child th {\n",
       "        text-align: right;\n",
       "    }\n",
       "\n",
       "    .dataframe thead th {\n",
       "        text-align: left;\n",
       "    }\n",
       "\n",
       "    .dataframe tbody tr th {\n",
       "        vertical-align: top;\n",
       "    }\n",
       "</style>\n",
       "<table border=\"1\" class=\"dataframe\">\n",
       "  <thead>\n",
       "    <tr style=\"text-align: right;\">\n",
       "      <th></th>\n",
       "      <th>Country</th>\n",
       "      <th>Year</th>\n",
       "      <th>Net_Migration</th>\n",
       "      <th>internet_users</th>\n",
       "    </tr>\n",
       "  </thead>\n",
       "  <tbody>\n",
       "    <tr>\n",
       "      <th>640</th>\n",
       "      <td>Timor-Leste</td>\n",
       "      <td>2007</td>\n",
       "      <td>-104946</td>\n",
       "      <td>0.140959</td>\n",
       "    </tr>\n",
       "    <tr>\n",
       "      <th>442</th>\n",
       "      <td>Myanmar</td>\n",
       "      <td>2007</td>\n",
       "      <td>-1466799</td>\n",
       "      <td>0.217128</td>\n",
       "    </tr>\n",
       "  </tbody>\n",
       "</table>\n",
       "</div>"
      ],
      "text/plain": [
       "         Country  Year  Net_Migration  internet_users\n",
       "640  Timor-Leste  2007        -104946        0.140959\n",
       "442      Myanmar  2007       -1466799        0.217128"
      ]
     },
     "execution_count": 31,
     "metadata": {},
     "output_type": "execute_result"
    }
   ],
   "source": [
    "Subset_2007.sort_values('internet_users',ascending=True).head(2)\n"
   ]
  },
  {
   "cell_type": "code",
   "execution_count": 32,
   "metadata": {},
   "outputs": [
    {
     "data": {
      "text/html": [
       "<div>\n",
       "<style>\n",
       "    .dataframe thead tr:only-child th {\n",
       "        text-align: right;\n",
       "    }\n",
       "\n",
       "    .dataframe thead th {\n",
       "        text-align: left;\n",
       "    }\n",
       "\n",
       "    .dataframe tbody tr th {\n",
       "        vertical-align: top;\n",
       "    }\n",
       "</style>\n",
       "<table border=\"1\" class=\"dataframe\">\n",
       "  <thead>\n",
       "    <tr style=\"text-align: right;\">\n",
       "      <th></th>\n",
       "      <th>Country</th>\n",
       "      <th>Year</th>\n",
       "      <th>Net_Migration</th>\n",
       "      <th>internet_users</th>\n",
       "    </tr>\n",
       "  </thead>\n",
       "  <tbody>\n",
       "    <tr>\n",
       "      <th>296</th>\n",
       "      <td>Iceland</td>\n",
       "      <td>2002</td>\n",
       "      <td>3894</td>\n",
       "      <td>79.12</td>\n",
       "    </tr>\n",
       "    <tr>\n",
       "      <th>481</th>\n",
       "      <td>Norway</td>\n",
       "      <td>2002</td>\n",
       "      <td>67400</td>\n",
       "      <td>72.84</td>\n",
       "    </tr>\n",
       "  </tbody>\n",
       "</table>\n",
       "</div>"
      ],
      "text/plain": [
       "     Country  Year  Net_Migration  internet_users\n",
       "296  Iceland  2002           3894           79.12\n",
       "481   Norway  2002          67400           72.84"
      ]
     },
     "execution_count": 32,
     "metadata": {},
     "output_type": "execute_result"
    }
   ],
   "source": [
    "Subset_2002.sort_values('internet_users',ascending=False).head(2)\n"
   ]
  },
  {
   "cell_type": "code",
   "execution_count": 33,
   "metadata": {},
   "outputs": [
    {
     "data": {
      "text/html": [
       "<div>\n",
       "<style>\n",
       "    .dataframe thead tr:only-child th {\n",
       "        text-align: right;\n",
       "    }\n",
       "\n",
       "    .dataframe thead th {\n",
       "        text-align: left;\n",
       "    }\n",
       "\n",
       "    .dataframe tbody tr th {\n",
       "        vertical-align: top;\n",
       "    }\n",
       "</style>\n",
       "<table border=\"1\" class=\"dataframe\">\n",
       "  <thead>\n",
       "    <tr style=\"text-align: right;\">\n",
       "      <th></th>\n",
       "      <th>Country</th>\n",
       "      <th>Year</th>\n",
       "      <th>Net_Migration</th>\n",
       "      <th>internet_users</th>\n",
       "    </tr>\n",
       "  </thead>\n",
       "  <tbody>\n",
       "    <tr>\n",
       "      <th>641</th>\n",
       "      <td>Timor-Leste</td>\n",
       "      <td>2002</td>\n",
       "      <td>12</td>\n",
       "      <td>0.000000</td>\n",
       "    </tr>\n",
       "    <tr>\n",
       "      <th>443</th>\n",
       "      <td>Myanmar</td>\n",
       "      <td>2002</td>\n",
       "      <td>-1372688</td>\n",
       "      <td>0.000426</td>\n",
       "    </tr>\n",
       "  </tbody>\n",
       "</table>\n",
       "</div>"
      ],
      "text/plain": [
       "         Country  Year  Net_Migration  internet_users\n",
       "641  Timor-Leste  2002             12        0.000000\n",
       "443      Myanmar  2002       -1372688        0.000426"
      ]
     },
     "execution_count": 33,
     "metadata": {},
     "output_type": "execute_result"
    }
   ],
   "source": [
    "Subset_2002.sort_values('internet_users',ascending=True).head(2)"
   ]
  },
  {
   "cell_type": "code",
   "execution_count": 34,
   "metadata": {
    "collapsed": true
   },
   "outputs": [],
   "source": [
    "###the lowest percentage of internet users are from Dem. People's Rep. of Korea, and its values is 0"
   ]
  },
  {
   "cell_type": "code",
   "execution_count": 35,
   "metadata": {},
   "outputs": [
    {
     "data": {
      "text/html": [
       "<div>\n",
       "<style>\n",
       "    .dataframe thead tr:only-child th {\n",
       "        text-align: right;\n",
       "    }\n",
       "\n",
       "    .dataframe thead th {\n",
       "        text-align: left;\n",
       "    }\n",
       "\n",
       "    .dataframe tbody tr th {\n",
       "        vertical-align: top;\n",
       "    }\n",
       "</style>\n",
       "<table border=\"1\" class=\"dataframe\">\n",
       "  <thead>\n",
       "    <tr style=\"text-align: right;\">\n",
       "      <th></th>\n",
       "      <th>Country</th>\n",
       "      <th>Year</th>\n",
       "      <th>Net_Migration</th>\n",
       "      <th>internet_users</th>\n",
       "    </tr>\n",
       "  </thead>\n",
       "  <tbody>\n",
       "    <tr>\n",
       "      <th>686</th>\n",
       "      <td>United States</td>\n",
       "      <td>2012</td>\n",
       "      <td>5007887</td>\n",
       "      <td>79.30</td>\n",
       "    </tr>\n",
       "    <tr>\n",
       "      <th>662</th>\n",
       "      <td>Turkey</td>\n",
       "      <td>2012</td>\n",
       "      <td>2000003</td>\n",
       "      <td>45.13</td>\n",
       "    </tr>\n",
       "  </tbody>\n",
       "</table>\n",
       "</div>"
      ],
      "text/plain": [
       "           Country  Year  Net_Migration  internet_users\n",
       "686  United States  2012        5007887           79.30\n",
       "662         Turkey  2012        2000003           45.13"
      ]
     },
     "execution_count": 35,
     "metadata": {},
     "output_type": "execute_result"
    }
   ],
   "source": [
    "Subset_2012.sort_values('Net_Migration',ascending=False).head(2)\n"
   ]
  },
  {
   "cell_type": "code",
   "execution_count": 36,
   "metadata": {},
   "outputs": [
    {
     "data": {
      "text/html": [
       "<div>\n",
       "<style>\n",
       "    .dataframe thead tr:only-child th {\n",
       "        text-align: right;\n",
       "    }\n",
       "\n",
       "    .dataframe thead th {\n",
       "        text-align: left;\n",
       "    }\n",
       "\n",
       "    .dataframe tbody tr th {\n",
       "        vertical-align: top;\n",
       "    }\n",
       "</style>\n",
       "<table border=\"1\" class=\"dataframe\">\n",
       "  <thead>\n",
       "    <tr style=\"text-align: right;\">\n",
       "      <th></th>\n",
       "      <th>Country</th>\n",
       "      <th>Year</th>\n",
       "      <th>Net_Migration</th>\n",
       "      <th>internet_users</th>\n",
       "    </tr>\n",
       "  </thead>\n",
       "  <tbody>\n",
       "    <tr>\n",
       "      <th>299</th>\n",
       "      <td>India</td>\n",
       "      <td>2012</td>\n",
       "      <td>-2598218</td>\n",
       "      <td>12.580061</td>\n",
       "    </tr>\n",
       "    <tr>\n",
       "      <th>48</th>\n",
       "      <td>Bangladesh</td>\n",
       "      <td>2012</td>\n",
       "      <td>-2226481</td>\n",
       "      <td>5.000000</td>\n",
       "    </tr>\n",
       "  </tbody>\n",
       "</table>\n",
       "</div>"
      ],
      "text/plain": [
       "        Country  Year  Net_Migration  internet_users\n",
       "299       India  2012       -2598218       12.580061\n",
       "48   Bangladesh  2012       -2226481        5.000000"
      ]
     },
     "execution_count": 36,
     "metadata": {},
     "output_type": "execute_result"
    }
   ],
   "source": [
    "Subset_2012.nsmallest(2,'Net_Migration')"
   ]
  },
  {
   "cell_type": "code",
   "execution_count": 37,
   "metadata": {},
   "outputs": [
    {
     "data": {
      "text/html": [
       "<div>\n",
       "<style>\n",
       "    .dataframe thead tr:only-child th {\n",
       "        text-align: right;\n",
       "    }\n",
       "\n",
       "    .dataframe thead th {\n",
       "        text-align: left;\n",
       "    }\n",
       "\n",
       "    .dataframe tbody tr th {\n",
       "        vertical-align: top;\n",
       "    }\n",
       "</style>\n",
       "<table border=\"1\" class=\"dataframe\">\n",
       "  <thead>\n",
       "    <tr style=\"text-align: right;\">\n",
       "      <th></th>\n",
       "      <th>Country</th>\n",
       "      <th>Year</th>\n",
       "      <th>Net_Migration</th>\n",
       "      <th>internet_users</th>\n",
       "    </tr>\n",
       "  </thead>\n",
       "  <tbody>\n",
       "    <tr>\n",
       "      <th>686</th>\n",
       "      <td>United States</td>\n",
       "      <td>2012</td>\n",
       "      <td>5007887</td>\n",
       "      <td>79.30</td>\n",
       "    </tr>\n",
       "    <tr>\n",
       "      <th>662</th>\n",
       "      <td>Turkey</td>\n",
       "      <td>2012</td>\n",
       "      <td>2000003</td>\n",
       "      <td>45.13</td>\n",
       "    </tr>\n",
       "  </tbody>\n",
       "</table>\n",
       "</div>"
      ],
      "text/plain": [
       "           Country  Year  Net_Migration  internet_users\n",
       "686  United States  2012        5007887           79.30\n",
       "662         Turkey  2012        2000003           45.13"
      ]
     },
     "execution_count": 37,
     "metadata": {},
     "output_type": "execute_result"
    }
   ],
   "source": [
    "Subset_2012.nlargest(2,'Net_Migration')"
   ]
  },
  {
   "cell_type": "code",
   "execution_count": 38,
   "metadata": {},
   "outputs": [
    {
     "data": {
      "text/plain": [
       "<matplotlib.axes._subplots.AxesSubplot at 0x6100aa3470>"
      ]
     },
     "execution_count": 38,
     "metadata": {},
     "output_type": "execute_result"
    },
    {
     "data": {
      "image/png": "[encoded data removed]",
      "text/plain": [
       "<matplotlib.figure.Figure at 0x6100ad0e80>"
      ]
     },
     "metadata": {},
     "output_type": "display_data"
    }
   ],
   "source": [
    "Subset_2002.plot.scatter('internet_users', 'Net_Migration', s=15, c='blue')"
   ]
  },
  {
   "cell_type": "code",
   "execution_count": 39,
   "metadata": {},
   "outputs": [
    {
     "data": {
      "text/plain": [
       "<matplotlib.axes._subplots.AxesSubplot at 0x6101ddd8d0>"
      ]
     },
     "execution_count": 39,
     "metadata": {},
     "output_type": "execute_result"
    },
    {
     "data": {
      "image/png": "[encoded data removed]",
      "text/plain": [
       "<matplotlib.figure.Figure at 0x6101df1f28>"
      ]
     },
     "metadata": {},
     "output_type": "display_data"
    }
   ],
   "source": [
    "Subset_2007.plot.scatter('internet_users', 'Net_Migration', s=15, c='blue')"
   ]
  },
  {
   "cell_type": "code",
   "execution_count": 40,
   "metadata": {},
   "outputs": [
    {
     "data": {
      "text/plain": [
       "<matplotlib.axes._subplots.AxesSubplot at 0x6101e73f98>"
      ]
     },
     "execution_count": 40,
     "metadata": {},
     "output_type": "execute_result"
    },
    {
     "data": {
      "image/png": "[encoded data removed]",
      "text/plain": [
       "<matplotlib.figure.Figure at 0x6100ab7048>"
      ]
     },
     "metadata": {},
     "output_type": "display_data"
    }
   ],
   "source": [
    "Subset_2012.plot.scatter('internet_users', 'Net_Migration', s=15, c='blue')"
   ]
  },
  {
   "cell_type": "markdown",
   "metadata": {},
   "source": [
    "Yes, there is a difference in the pattern, internet . i want to see if there is a correlation between internet use and migration  :) "
   ]
  },
  {
   "cell_type": "code",
   "execution_count": 41,
   "metadata": {},
   "outputs": [
    {
     "data": {
      "text/plain": [
       "<matplotlib.axes._subplots.AxesSubplot at 0x6100ab77b8>"
      ]
     },
     "execution_count": 41,
     "metadata": {},
     "output_type": "execute_result"
    },
    {
     "data": {
      "image/png": "[encoded data removed]",
      "text/plain": [
       "<matplotlib.figure.Figure at 0x6100ad0710>"
      ]
     },
     "metadata": {},
     "output_type": "display_data"
    }
   ],
   "source": [
    "Subset_2012['Net_Migration'].plot.hist(alpha=1)\n"
   ]
  },
  {
   "cell_type": "code",
   "execution_count": 42,
   "metadata": {},
   "outputs": [
    {
     "data": {
      "text/plain": [
       "<matplotlib.axes._subplots.AxesSubplot at 0x610215ae48>"
      ]
     },
     "execution_count": 42,
     "metadata": {},
     "output_type": "execute_result"
    },
    {
     "data": {
      "image/png": "[encoded data removed]",
      "text/plain": [
       "<matplotlib.figure.Figure at 0x6102118780>"
      ]
     },
     "metadata": {},
     "output_type": "display_data"
    }
   ],
   "source": [
    "Subset_2012['internet_users'].plot.hist(alpha=1)"
   ]
  },
  {
   "cell_type": "code",
   "execution_count": 43,
   "metadata": {},
   "outputs": [
    {
     "data": {
      "text/html": [
       "<div>\n",
       "<style>\n",
       "    .dataframe thead tr:only-child th {\n",
       "        text-align: right;\n",
       "    }\n",
       "\n",
       "    .dataframe thead th {\n",
       "        text-align: left;\n",
       "    }\n",
       "\n",
       "    .dataframe tbody tr th {\n",
       "        vertical-align: top;\n",
       "    }\n",
       "</style>\n",
       "<table border=\"1\" class=\"dataframe\">\n",
       "  <thead>\n",
       "    <tr style=\"text-align: right;\">\n",
       "      <th></th>\n",
       "      <th>Country</th>\n",
       "      <th>Year</th>\n",
       "      <th>Net_Migration</th>\n",
       "      <th>internet_users</th>\n",
       "    </tr>\n",
       "  </thead>\n",
       "  <tbody>\n",
       "    <tr>\n",
       "      <th>294</th>\n",
       "      <td>Iceland</td>\n",
       "      <td>2012</td>\n",
       "      <td>-378</td>\n",
       "      <td>96.209800</td>\n",
       "    </tr>\n",
       "    <tr>\n",
       "      <th>479</th>\n",
       "      <td>Norway</td>\n",
       "      <td>2012</td>\n",
       "      <td>235665</td>\n",
       "      <td>94.649978</td>\n",
       "    </tr>\n",
       "    <tr>\n",
       "      <th>614</th>\n",
       "      <td>Sweden</td>\n",
       "      <td>2012</td>\n",
       "      <td>272626</td>\n",
       "      <td>93.179988</td>\n",
       "    </tr>\n",
       "    <tr>\n",
       "      <th>453</th>\n",
       "      <td>Netherlands</td>\n",
       "      <td>2012</td>\n",
       "      <td>110006</td>\n",
       "      <td>92.859992</td>\n",
       "    </tr>\n",
       "    <tr>\n",
       "      <th>180</th>\n",
       "      <td>Denmark</td>\n",
       "      <td>2012</td>\n",
       "      <td>96839</td>\n",
       "      <td>92.260012</td>\n",
       "    </tr>\n",
       "  </tbody>\n",
       "</table>\n",
       "</div>"
      ],
      "text/plain": [
       "         Country  Year  Net_Migration  internet_users\n",
       "294      Iceland  2012           -378       96.209800\n",
       "479       Norway  2012         235665       94.649978\n",
       "614       Sweden  2012         272626       93.179988\n",
       "453  Netherlands  2012         110006       92.859992\n",
       "180      Denmark  2012          96839       92.260012"
      ]
     },
     "execution_count": 43,
     "metadata": {},
     "output_type": "execute_result"
    }
   ],
   "source": [
    "Subset_2012.nlargest(5,'internet_users')"
   ]
  },
  {
   "cell_type": "code",
   "execution_count": 44,
   "metadata": {
    "collapsed": true
   },
   "outputs": [],
   "source": [
    "T_internet_users=subset_MI[(subset_MI.Country == 'Iceland')| (subset_MI.Country == 'Norway')| (subset_MI.Country == 'Sweden')|(subset_MI.Country == 'Netherlands')|(subset_MI.Country == 'Denmark')]"
   ]
  },
  {
   "cell_type": "code",
   "execution_count": 45,
   "metadata": {},
   "outputs": [
    {
     "name": "stdout",
     "output_type": "stream",
     "text": [
      "         Country  Year  Net_Migration  internet_users\n",
      "180      Denmark  2012          96839       92.260012\n",
      "181      Denmark  2007          87989       85.030000\n",
      "182      Denmark  2002          46306       64.250000\n",
      "294      Iceland  2012           -378       96.209800\n",
      "295      Iceland  2007           8041       90.600000\n",
      "296      Iceland  2002           3894       79.120000\n",
      "453  Netherlands  2012         110006       92.859992\n",
      "454  Netherlands  2007          55674       85.820000\n",
      "455  Netherlands  2002         144620       61.290000\n",
      "479       Norway  2012         235665       94.649978\n",
      "480       Norway  2007         174001       86.930000\n",
      "481       Norway  2002          67400       72.840000\n",
      "614       Sweden  2012         272626       93.179988\n",
      "615       Sweden  2007         262453       82.010000\n",
      "616       Sweden  2002         141723       70.570000\n"
     ]
    }
   ],
   "source": [
    "print(T_internet_users)"
   ]
  },
  {
   "cell_type": "code",
   "execution_count": 46,
   "metadata": {
    "collapsed": true
   },
   "outputs": [],
   "source": [
    "import seaborn as sns"
   ]
  },
  {
   "cell_type": "code",
   "execution_count": 47,
   "metadata": {
    "collapsed": true
   },
   "outputs": [],
   "source": [
    "sns.set(style=\"ticks\", color_codes=True)"
   ]
  },
  {
   "cell_type": "code",
   "execution_count": 48,
   "metadata": {},
   "outputs": [
    {
     "data": {
      "image/png": "[encoded data removed]",
      "text/plain": [
       "<matplotlib.figure.Figure at 0x6102d53be0>"
      ]
     },
     "metadata": {},
     "output_type": "display_data"
    }
   ],
   "source": [
    "MI = sns.FacetGrid(T_internet_users,  col=\"Country\")\n",
    "MI = (MI.map(plt.plot, \"Year\", \"internet_users\" ).add_legend()) "
   ]
  },
  {
   "cell_type": "code",
   "execution_count": 49,
   "metadata": {},
   "outputs": [
    {
     "data": {
      "image/png": "[encoded data removed]",
      "text/plain": [
       "<matplotlib.figure.Figure at 0x6102ee8ba8>"
      ]
     },
     "metadata": {},
     "output_type": "display_data"
    }
   ],
   "source": [
    "MI = sns.FacetGrid(T_internet_users,  hue=\"Country\")\n",
    "MI = (MI.map(plt.plot, \"Year\", \"internet_users\" ).add_legend()) "
   ]
  },
  {
   "cell_type": "code",
   "execution_count": 50,
   "metadata": {},
   "outputs": [
    {
     "data": {
      "text/html": [
       "<div>\n",
       "<style>\n",
       "    .dataframe thead tr:only-child th {\n",
       "        text-align: right;\n",
       "    }\n",
       "\n",
       "    .dataframe thead th {\n",
       "        text-align: left;\n",
       "    }\n",
       "\n",
       "    .dataframe tbody tr th {\n",
       "        vertical-align: top;\n",
       "    }\n",
       "</style>\n",
       "<table border=\"1\" class=\"dataframe\">\n",
       "  <thead>\n",
       "    <tr style=\"text-align: right;\">\n",
       "      <th></th>\n",
       "      <th>Country</th>\n",
       "      <th>Year</th>\n",
       "      <th>Net_Migration</th>\n",
       "      <th>internet_users</th>\n",
       "    </tr>\n",
       "  </thead>\n",
       "  <tbody>\n",
       "    <tr>\n",
       "      <th>202</th>\n",
       "      <td>Eritrea</td>\n",
       "      <td>2012</td>\n",
       "      <td>-160001</td>\n",
       "      <td>0.8000</td>\n",
       "    </tr>\n",
       "    <tr>\n",
       "      <th>639</th>\n",
       "      <td>Timor-Leste</td>\n",
       "      <td>2012</td>\n",
       "      <td>-50004</td>\n",
       "      <td>0.9147</td>\n",
       "    </tr>\n",
       "    <tr>\n",
       "      <th>441</th>\n",
       "      <td>Myanmar</td>\n",
       "      <td>2012</td>\n",
       "      <td>-474278</td>\n",
       "      <td>1.0691</td>\n",
       "    </tr>\n",
       "    <tr>\n",
       "      <th>108</th>\n",
       "      <td>Burundi</td>\n",
       "      <td>2012</td>\n",
       "      <td>40000</td>\n",
       "      <td>1.2200</td>\n",
       "    </tr>\n",
       "    <tr>\n",
       "      <th>559</th>\n",
       "      <td>Sierra Leone</td>\n",
       "      <td>2012</td>\n",
       "      <td>-21000</td>\n",
       "      <td>1.3000</td>\n",
       "    </tr>\n",
       "  </tbody>\n",
       "</table>\n",
       "</div>"
      ],
      "text/plain": [
       "          Country  Year  Net_Migration  internet_users\n",
       "202       Eritrea  2012        -160001          0.8000\n",
       "639   Timor-Leste  2012         -50004          0.9147\n",
       "441       Myanmar  2012        -474278          1.0691\n",
       "108       Burundi  2012          40000          1.2200\n",
       "559  Sierra Leone  2012         -21000          1.3000"
      ]
     },
     "execution_count": 50,
     "metadata": {},
     "output_type": "execute_result"
    }
   ],
   "source": [
    "Subset_2012.nsmallest(5,'internet_users')"
   ]
  },
  {
   "cell_type": "code",
   "execution_count": 51,
   "metadata": {
    "collapsed": true
   },
   "outputs": [],
   "source": [
    "#### 25.What are the top 5 countries in terms of internet use in 2012?\n",
    "#26.Create a data frame called top_5_internet from the combined data frame that has all three years for these 5 countries. You should have 15 rows.\n",
    "#27.\tCreate a seaborn FacetGrid to show the internet usage trend over time for these 5 countries.\n",
    "#28.\tRepeat the steps (23-25) to look at the trend for 5 countries with the lowest 2012 internet usage.\n",
    "#29.\tDo the same thing (top 5 for 2012 and bottom 5 for 2012) to look at 10-year trends in Net Migration.\n",
    "#30.\tIs there anything surprising or unusual in any of these plots? Searching on the internet, can you find any possible explanations for unusual findings?\n",
    "#31.\tDownload another data set from the UN data (http://data.un.org/Explorer.aspx) to merge with your data and explore.\n",
    "#32.\tLook through the bokeh gallery (https://bokeh.pydata.org/en/latest/docs/gallery.html#gallery) and if time allows create a bokeh visualization using the UN data."
   ]
  },
  {
   "cell_type": "code",
   "execution_count": 52,
   "metadata": {
    "collapsed": true
   },
   "outputs": [],
   "source": [
    "S_internet_users=subset_MI[(subset_MI.Country == \"Dem. People's Rep. of Korea\")| (subset_MI.Country == 'Eritrea')| (subset_MI.Country == 'Timor-Leste')|(subset_MI.Country == 'Myanmar')|(subset_MI.Country == 'Burundi')]\n"
   ]
  },
  {
   "cell_type": "code",
   "execution_count": 53,
   "metadata": {},
   "outputs": [
    {
     "name": "stdout",
     "output_type": "stream",
     "text": [
      "         Country  Year  Net_Migration  internet_users\n",
      "108      Burundi  2012          40000        1.220000\n",
      "109      Burundi  2007         163733        0.700000\n",
      "110      Burundi  2002         112532        0.118228\n",
      "202      Eritrea  2012        -160001        0.800000\n",
      "203      Eritrea  2007        -160001        0.410000\n",
      "204      Eritrea  2002         110001        0.227090\n",
      "441      Myanmar  2012        -474278        1.069100\n",
      "442      Myanmar  2007       -1466799        0.217128\n",
      "443      Myanmar  2002       -1372688        0.000426\n",
      "639  Timor-Leste  2012         -50004        0.914700\n",
      "640  Timor-Leste  2007        -104946        0.140959\n",
      "641  Timor-Leste  2002             12        0.000000\n"
     ]
    }
   ],
   "source": [
    "print(S_internet_users)"
   ]
  },
  {
   "cell_type": "code",
   "execution_count": 54,
   "metadata": {},
   "outputs": [
    {
     "data": {
      "image/png": "[encoded data removed]",
      "text/plain": [
       "<matplotlib.figure.Figure at 0x6102df5320>"
      ]
     },
     "metadata": {},
     "output_type": "display_data"
    }
   ],
   "source": [
    "MI = sns.FacetGrid(S_internet_users,  col=\"Country\")\n",
    "MI = (MI.map(plt.plot, \"Year\", \"internet_users\" ).add_legend()) "
   ]
  },
  {
   "cell_type": "code",
   "execution_count": 55,
   "metadata": {},
   "outputs": [
    {
     "data": {
      "image/png": "[encoded data removed]",
      "text/plain": [
       "<matplotlib.figure.Figure at 0x6103057240>"
      ]
     },
     "metadata": {},
     "output_type": "display_data"
    }
   ],
   "source": [
    "MI = sns.FacetGrid(S_internet_users,  hue=\"Country\")\n",
    "MI = (MI.map(plt.plot, \"Year\", \"internet_users\" ).add_legend()) "
   ]
  },
  {
   "cell_type": "code",
   "execution_count": 56,
   "metadata": {},
   "outputs": [
    {
     "data": {
      "text/html": [
       "<div>\n",
       "<style>\n",
       "    .dataframe thead tr:only-child th {\n",
       "        text-align: right;\n",
       "    }\n",
       "\n",
       "    .dataframe thead th {\n",
       "        text-align: left;\n",
       "    }\n",
       "\n",
       "    .dataframe tbody tr th {\n",
       "        vertical-align: top;\n",
       "    }\n",
       "</style>\n",
       "<table border=\"1\" class=\"dataframe\">\n",
       "  <thead>\n",
       "    <tr style=\"text-align: right;\">\n",
       "      <th></th>\n",
       "      <th>Country</th>\n",
       "      <th>Year</th>\n",
       "      <th>Net_Migration</th>\n",
       "      <th>internet_users</th>\n",
       "    </tr>\n",
       "  </thead>\n",
       "  <tbody>\n",
       "    <tr>\n",
       "      <th>686</th>\n",
       "      <td>United States</td>\n",
       "      <td>2012</td>\n",
       "      <td>5007887</td>\n",
       "      <td>79.300000</td>\n",
       "    </tr>\n",
       "    <tr>\n",
       "      <th>662</th>\n",
       "      <td>Turkey</td>\n",
       "      <td>2012</td>\n",
       "      <td>2000003</td>\n",
       "      <td>45.130000</td>\n",
       "    </tr>\n",
       "    <tr>\n",
       "      <th>358</th>\n",
       "      <td>Lebanon</td>\n",
       "      <td>2012</td>\n",
       "      <td>1250000</td>\n",
       "      <td>61.249786</td>\n",
       "    </tr>\n",
       "    <tr>\n",
       "      <th>241</th>\n",
       "      <td>Germany</td>\n",
       "      <td>2012</td>\n",
       "      <td>1249998</td>\n",
       "      <td>82.349998</td>\n",
       "    </tr>\n",
       "    <tr>\n",
       "      <th>484</th>\n",
       "      <td>Oman</td>\n",
       "      <td>2012</td>\n",
       "      <td>1211000</td>\n",
       "      <td>60.000000</td>\n",
       "    </tr>\n",
       "  </tbody>\n",
       "</table>\n",
       "</div>"
      ],
      "text/plain": [
       "           Country  Year  Net_Migration  internet_users\n",
       "686  United States  2012        5007887       79.300000\n",
       "662         Turkey  2012        2000003       45.130000\n",
       "358        Lebanon  2012        1250000       61.249786\n",
       "241        Germany  2012        1249998       82.349998\n",
       "484           Oman  2012        1211000       60.000000"
      ]
     },
     "execution_count": 56,
     "metadata": {},
     "output_type": "execute_result"
    }
   ],
   "source": [
    "Subset_2012.nlargest(5,'Net_Migration')  "
   ]
  },
  {
   "cell_type": "code",
   "execution_count": 57,
   "metadata": {},
   "outputs": [
    {
     "data": {
      "text/html": [
       "<div>\n",
       "<style>\n",
       "    .dataframe thead tr:only-child th {\n",
       "        text-align: right;\n",
       "    }\n",
       "\n",
       "    .dataframe thead th {\n",
       "        text-align: left;\n",
       "    }\n",
       "\n",
       "    .dataframe tbody tr th {\n",
       "        vertical-align: top;\n",
       "    }\n",
       "</style>\n",
       "<table border=\"1\" class=\"dataframe\">\n",
       "  <thead>\n",
       "    <tr style=\"text-align: right;\">\n",
       "      <th></th>\n",
       "      <th>Country</th>\n",
       "      <th>Year</th>\n",
       "      <th>Net_Migration</th>\n",
       "      <th>internet_users</th>\n",
       "    </tr>\n",
       "  </thead>\n",
       "  <tbody>\n",
       "    <tr>\n",
       "      <th>686</th>\n",
       "      <td>United States</td>\n",
       "      <td>2012</td>\n",
       "      <td>5007887</td>\n",
       "      <td>79.300000</td>\n",
       "    </tr>\n",
       "    <tr>\n",
       "      <th>662</th>\n",
       "      <td>Turkey</td>\n",
       "      <td>2012</td>\n",
       "      <td>2000003</td>\n",
       "      <td>45.130000</td>\n",
       "    </tr>\n",
       "    <tr>\n",
       "      <th>358</th>\n",
       "      <td>Lebanon</td>\n",
       "      <td>2012</td>\n",
       "      <td>1250000</td>\n",
       "      <td>61.249786</td>\n",
       "    </tr>\n",
       "    <tr>\n",
       "      <th>241</th>\n",
       "      <td>Germany</td>\n",
       "      <td>2012</td>\n",
       "      <td>1249998</td>\n",
       "      <td>82.349998</td>\n",
       "    </tr>\n",
       "    <tr>\n",
       "      <th>484</th>\n",
       "      <td>Oman</td>\n",
       "      <td>2012</td>\n",
       "      <td>1211000</td>\n",
       "      <td>60.000000</td>\n",
       "    </tr>\n",
       "  </tbody>\n",
       "</table>\n",
       "</div>"
      ],
      "text/plain": [
       "           Country  Year  Net_Migration  internet_users\n",
       "686  United States  2012        5007887       79.300000\n",
       "662         Turkey  2012        2000003       45.130000\n",
       "358        Lebanon  2012        1250000       61.249786\n",
       "241        Germany  2012        1249998       82.349998\n",
       "484           Oman  2012        1211000       60.000000"
      ]
     },
     "execution_count": 57,
     "metadata": {},
     "output_type": "execute_result"
    }
   ],
   "source": [
    "Subset_2012.nlargest(5,'Net_Migration') "
   ]
  },
  {
   "cell_type": "code",
   "execution_count": 58,
   "metadata": {
    "collapsed": true
   },
   "outputs": [],
   "source": [
    "T_Net_Migration=subset_MI[(subset_MI.Country == \"High income\")| (subset_MI.Country == \"OECD members\")| (subset_MI.Country == \"North America\")|(subset_MI.Country == \"Europe & Central Asia (all income levels)\")|(subset_MI.Country == \"United States\")]"
   ]
  },
  {
   "cell_type": "code",
   "execution_count": 59,
   "metadata": {},
   "outputs": [
    {
     "data": {
      "image/png": "[encoded data removed]",
      "text/plain": [
       "<matplotlib.figure.Figure at 0x6103170dd8>"
      ]
     },
     "metadata": {},
     "output_type": "display_data"
    }
   ],
   "source": [
    "MI = sns.FacetGrid(T_Net_Migration,  hue=\"Country\")\n",
    "MI = (MI.map(plt.plot, \"Year\", \"Net_Migration\" ).add_legend()) "
   ]
  },
  {
   "cell_type": "code",
   "execution_count": 60,
   "metadata": {},
   "outputs": [
    {
     "data": {
      "image/png": "[encoded data removed]",
      "text/plain": [
       "<matplotlib.figure.Figure at 0x6103119828>"
      ]
     },
     "metadata": {},
     "output_type": "display_data"
    }
   ],
   "source": [
    "MI = sns.FacetGrid(T_Net_Migration,  hue=\"Country\")\n",
    "MI = (MI.map(plt.plot, \"Year\", \"Net_Migration\" ).add_legend()) "
   ]
  },
  {
   "cell_type": "code",
   "execution_count": 61,
   "metadata": {},
   "outputs": [
    {
     "data": {
      "text/html": [
       "<div>\n",
       "<style>\n",
       "    .dataframe thead tr:only-child th {\n",
       "        text-align: right;\n",
       "    }\n",
       "\n",
       "    .dataframe thead th {\n",
       "        text-align: left;\n",
       "    }\n",
       "\n",
       "    .dataframe tbody tr th {\n",
       "        vertical-align: top;\n",
       "    }\n",
       "</style>\n",
       "<table border=\"1\" class=\"dataframe\">\n",
       "  <thead>\n",
       "    <tr style=\"text-align: right;\">\n",
       "      <th></th>\n",
       "      <th>Country</th>\n",
       "      <th>Year</th>\n",
       "      <th>Net_Migration</th>\n",
       "      <th>internet_users</th>\n",
       "    </tr>\n",
       "  </thead>\n",
       "  <tbody>\n",
       "    <tr>\n",
       "      <th>299</th>\n",
       "      <td>India</td>\n",
       "      <td>2012</td>\n",
       "      <td>-2598218</td>\n",
       "      <td>12.580061</td>\n",
       "    </tr>\n",
       "    <tr>\n",
       "      <th>48</th>\n",
       "      <td>Bangladesh</td>\n",
       "      <td>2012</td>\n",
       "      <td>-2226481</td>\n",
       "      <td>5.000000</td>\n",
       "    </tr>\n",
       "    <tr>\n",
       "      <th>142</th>\n",
       "      <td>China</td>\n",
       "      <td>2012</td>\n",
       "      <td>-1800000</td>\n",
       "      <td>42.300117</td>\n",
       "    </tr>\n",
       "    <tr>\n",
       "      <th>488</th>\n",
       "      <td>Pakistan</td>\n",
       "      <td>2012</td>\n",
       "      <td>-1081918</td>\n",
       "      <td>9.960000</td>\n",
       "    </tr>\n",
       "    <tr>\n",
       "      <th>602</th>\n",
       "      <td>Sudan</td>\n",
       "      <td>2012</td>\n",
       "      <td>-800000</td>\n",
       "      <td>21.000000</td>\n",
       "    </tr>\n",
       "  </tbody>\n",
       "</table>\n",
       "</div>"
      ],
      "text/plain": [
       "        Country  Year  Net_Migration  internet_users\n",
       "299       India  2012       -2598218       12.580061\n",
       "48   Bangladesh  2012       -2226481        5.000000\n",
       "142       China  2012       -1800000       42.300117\n",
       "488    Pakistan  2012       -1081918        9.960000\n",
       "602       Sudan  2012        -800000       21.000000"
      ]
     },
     "execution_count": 61,
     "metadata": {},
     "output_type": "execute_result"
    }
   ],
   "source": [
    "Subset_2012.nsmallest(5,'Net_Migration') "
   ]
  },
  {
   "cell_type": "code",
   "execution_count": 62,
   "metadata": {
    "collapsed": true
   },
   "outputs": [],
   "source": [
    "S_Net_Migration=subset_MI[(subset_MI.Country == 'Lower middle income')| (subset_MI.Country == 'Low & middle income')| (subset_MI.Country == 'Middle income')|(subset_MI.Country == 'South Asia')|(subset_MI.Country == \"Least developed countries: UN classification\")]"
   ]
  },
  {
   "cell_type": "code",
   "execution_count": 63,
   "metadata": {},
   "outputs": [
    {
     "data": {
      "image/png": "[encoded data removed]",
      "text/plain": [
       "<matplotlib.figure.Figure at 0x6103273da0>"
      ]
     },
     "metadata": {},
     "output_type": "display_data"
    }
   ],
   "source": [
    "MI = sns.FacetGrid(S_Net_Migration,  hue=\"Country\")\n",
    "MI = (MI.map(plt.plot, \"Year\", \"Net_Migration\" ).add_legend()) "
   ]
  },
  {
   "cell_type": "code",
   "execution_count": 64,
   "metadata": {},
   "outputs": [
    {
     "data": {
      "image/png": "[encoded data removed]",
      "text/plain": [
       "<matplotlib.figure.Figure at 0x610325d0f0>"
      ]
     },
     "metadata": {},
     "output_type": "display_data"
    }
   ],
   "source": [
    "MI = sns.FacetGrid(T_Net_Migration,  hue=\"Country\")\n",
    "MI = (MI.map(plt.plot, \"Year\", \"Net_Migration\" ).add_legend()) "
   ]
  },
  {
   "cell_type": "code",
   "execution_count": 65,
   "metadata": {
    "collapsed": true
   },
   "outputs": [],
   "source": [
    "life_expectancy=pd.read_csv('life_expectancy.csv', nrows=12000)"
   ]
  },
  {
   "cell_type": "code",
   "execution_count": 66,
   "metadata": {},
   "outputs": [
    {
     "name": "stdout",
     "output_type": "stream",
     "text": [
      "  Country or Area  Year      Value  Value Footnotes\n",
      "0     Afghanistan  2014  60.374463              NaN\n",
      "1     Afghanistan  2013  60.028268              NaN\n",
      "2     Afghanistan  2012  59.679610              NaN\n",
      "3     Afghanistan  2011  59.327951              NaN\n",
      "4     Afghanistan  2010  58.970829              NaN\n"
     ]
    }
   ],
   "source": [
    "print(life_expectancy.head())"
   ]
  },
  {
   "cell_type": "code",
   "execution_count": 67,
   "metadata": {},
   "outputs": [
    {
     "name": "stdout",
     "output_type": "stream",
     "text": [
      "      Country or Area  Year      Value  Value Footnotes\n",
      "11995        Zimbabwe  1964  52.971659              NaN\n",
      "11996        Zimbabwe  1963  52.629317              NaN\n",
      "11997        Zimbabwe  1962  52.277902              NaN\n",
      "11998        Zimbabwe  1961  51.914951              NaN\n",
      "11999        Zimbabwe  1960  51.542463              NaN\n"
     ]
    }
   ],
   "source": [
    "print(life_expectancy.tail())"
   ]
  },
  {
   "cell_type": "code",
   "execution_count": 68,
   "metadata": {
    "collapsed": true
   },
   "outputs": [],
   "source": [
    "life_expectancy.drop('Value Footnotes', axis=1, inplace=True)"
   ]
  },
  {
   "cell_type": "code",
   "execution_count": 69,
   "metadata": {},
   "outputs": [
    {
     "name": "stdout",
     "output_type": "stream",
     "text": [
      "      Country or Area  Year      Value\n",
      "11995        Zimbabwe  1964  52.971659\n",
      "11996        Zimbabwe  1963  52.629317\n",
      "11997        Zimbabwe  1962  52.277902\n",
      "11998        Zimbabwe  1961  51.914951\n",
      "11999        Zimbabwe  1960  51.542463\n"
     ]
    }
   ],
   "source": [
    "print(life_expectancy.tail())"
   ]
  },
  {
   "cell_type": "code",
   "execution_count": 70,
   "metadata": {
    "collapsed": true
   },
   "outputs": [],
   "source": [
    "life_expectancy.columns = ['Country', 'Year', 'Life_Expectancy']"
   ]
  },
  {
   "cell_type": "code",
   "execution_count": 71,
   "metadata": {},
   "outputs": [
    {
     "data": {
      "text/html": [
       "<div>\n",
       "<style>\n",
       "    .dataframe thead tr:only-child th {\n",
       "        text-align: right;\n",
       "    }\n",
       "\n",
       "    .dataframe thead th {\n",
       "        text-align: left;\n",
       "    }\n",
       "\n",
       "    .dataframe tbody tr th {\n",
       "        vertical-align: top;\n",
       "    }\n",
       "</style>\n",
       "<table border=\"1\" class=\"dataframe\">\n",
       "  <thead>\n",
       "    <tr style=\"text-align: right;\">\n",
       "      <th></th>\n",
       "      <th>Year</th>\n",
       "      <th>Life_Expectancy</th>\n",
       "    </tr>\n",
       "  </thead>\n",
       "  <tbody>\n",
       "    <tr>\n",
       "      <th>count</th>\n",
       "      <td>12000.000000</td>\n",
       "      <td>12000.000000</td>\n",
       "    </tr>\n",
       "    <tr>\n",
       "      <th>mean</th>\n",
       "      <td>1987.256417</td>\n",
       "      <td>63.445590</td>\n",
       "    </tr>\n",
       "    <tr>\n",
       "      <th>std</th>\n",
       "      <td>15.872319</td>\n",
       "      <td>11.301956</td>\n",
       "    </tr>\n",
       "    <tr>\n",
       "      <th>min</th>\n",
       "      <td>1960.000000</td>\n",
       "      <td>19.265512</td>\n",
       "    </tr>\n",
       "    <tr>\n",
       "      <th>25%</th>\n",
       "      <td>1974.000000</td>\n",
       "      <td>55.210067</td>\n",
       "    </tr>\n",
       "    <tr>\n",
       "      <th>50%</th>\n",
       "      <td>1987.000000</td>\n",
       "      <td>66.437683</td>\n",
       "    </tr>\n",
       "    <tr>\n",
       "      <th>75%</th>\n",
       "      <td>2001.000000</td>\n",
       "      <td>71.990128</td>\n",
       "    </tr>\n",
       "    <tr>\n",
       "      <th>max</th>\n",
       "      <td>2014.000000</td>\n",
       "      <td>83.980488</td>\n",
       "    </tr>\n",
       "  </tbody>\n",
       "</table>\n",
       "</div>"
      ],
      "text/plain": [
       "               Year  Life_Expectancy\n",
       "count  12000.000000     12000.000000\n",
       "mean    1987.256417        63.445590\n",
       "std       15.872319        11.301956\n",
       "min     1960.000000        19.265512\n",
       "25%     1974.000000        55.210067\n",
       "50%     1987.000000        66.437683\n",
       "75%     2001.000000        71.990128\n",
       "max     2014.000000        83.980488"
      ]
     },
     "execution_count": 71,
     "metadata": {},
     "output_type": "execute_result"
    }
   ],
   "source": [
    "life_expectancy.describe()"
   ]
  },
  {
   "cell_type": "code",
   "execution_count": 72,
   "metadata": {},
   "outputs": [
    {
     "name": "stdout",
     "output_type": "stream",
     "text": [
      "        Country  Year  Life_Expectancy\n",
      "11995  Zimbabwe  1964        52.971659\n",
      "11996  Zimbabwe  1963        52.629317\n",
      "11997  Zimbabwe  1962        52.277902\n",
      "11998  Zimbabwe  1961        51.914951\n",
      "11999  Zimbabwe  1960        51.542463\n"
     ]
    }
   ],
   "source": [
    "print(life_expectancy.tail())"
   ]
  },
  {
   "cell_type": "code",
   "execution_count": 73,
   "metadata": {
    "collapsed": true
   },
   "outputs": [],
   "source": [
    "merged_all=pd.merge(merged_MI, life_expectancy,how='outer',on=('Country','Year'))"
   ]
  },
  {
   "cell_type": "code",
   "execution_count": 74,
   "metadata": {},
   "outputs": [
    {
     "name": "stdout",
     "output_type": "stream",
     "text": [
      "       Country  Year  Net_Migration  internet_users  Life_Expectancy\n",
      "0  Afghanistan  2012       473007.0        5.454545        59.679610\n",
      "1  Afghanistan  2007      -677497.0        1.900000        57.833829\n",
      "2  Afghanistan  2002       804120.0        0.004561        55.857195\n",
      "3      Albania  2012       -91750.0       54.655959        77.443976\n",
      "4      Albania  2007      -252926.0       15.036115        76.470293\n"
     ]
    }
   ],
   "source": [
    "print(merged_all.head())"
   ]
  },
  {
   "cell_type": "code",
   "execution_count": 75,
   "metadata": {
    "collapsed": true
   },
   "outputs": [],
   "source": [
    "from scipy import stats \n"
   ]
  },
  {
   "cell_type": "code",
   "execution_count": 76,
   "metadata": {},
   "outputs": [
    {
     "name": "stdout",
     "output_type": "stream",
     "text": [
      "\n",
      "==========================================\n",
      "Statistical functions (:mod:`scipy.stats`)\n",
      "==========================================\n",
      "\n",
      ".. module:: scipy.stats\n",
      "\n",
      "This module contains a large number of probability distributions as\n",
      "well as a growing library of statistical functions.\n",
      "\n",
      "Each univariate distribution is an instance of a subclass of `rv_continuous`\n",
      "(`rv_discrete` for discrete distributions):\n",
      "\n",
      ".. autosummary::\n",
      "   :toctree: generated/\n",
      "\n",
      "   rv_continuous\n",
      "   rv_discrete\n",
      "   rv_histogram\n",
      "\n",
      "Continuous distributions\n",
      "========================\n",
      "\n",
      ".. autosummary::\n",
      "   :toctree: generated/\n",
      "\n",
      "   alpha             -- Alpha\n",
      "   anglit            -- Anglit\n",
      "   arcsine           -- Arcsine\n",
      "   argus             -- Argus\n",
      "   beta              -- Beta\n",
      "   betaprime         -- Beta Prime\n",
      "   bradford          -- Bradford\n",
      "   burr              -- Burr (Type III)\n",
      "   burr12            -- Burr (Type XII)\n",
      "   cauchy            -- Cauchy\n",
      "   chi               -- Chi\n",
      "   chi2              -- Chi-squared\n",
      "   cosine            -- Cosine\n",
      "   dgamma            -- Double Gamma\n",
      "   dweibull          -- Double Weibull\n",
      "   erlang            -- Erlang\n",
      "   expon             -- Exponential\n",
      "   exponnorm         -- Exponentially Modified Normal\n",
      "   exponweib         -- Exponentiated Weibull\n",
      "   exponpow          -- Exponential Power\n",
      "   f                 -- F (Snecdor F)\n",
      "   fatiguelife       -- Fatigue Life (Birnbaum-Saunders)\n",
      "   fisk              -- Fisk\n",
      "   foldcauchy        -- Folded Cauchy\n",
      "   foldnorm          -- Folded Normal\n",
      "   frechet_r         -- Frechet Right Sided, Extreme Value Type II (Extreme LB) or weibull_min\n",
      "   frechet_l         -- Frechet Left Sided, Weibull_max\n",
      "   genlogistic       -- Generalized Logistic\n",
      "   gennorm           -- Generalized normal\n",
      "   genpareto         -- Generalized Pareto\n",
      "   genexpon          -- Generalized Exponential\n",
      "   genextreme        -- Generalized Extreme Value\n",
      "   gausshyper        -- Gauss Hypergeometric\n",
      "   gamma             -- Gamma\n",
      "   gengamma          -- Generalized gamma\n",
      "   genhalflogistic   -- Generalized Half Logistic\n",
      "   gilbrat           -- Gilbrat\n",
      "   gompertz          -- Gompertz (Truncated Gumbel)\n",
      "   gumbel_r          -- Right Sided Gumbel, Log-Weibull, Fisher-Tippett, Extreme Value Type I\n",
      "   gumbel_l          -- Left Sided Gumbel, etc.\n",
      "   halfcauchy        -- Half Cauchy\n",
      "   halflogistic      -- Half Logistic\n",
      "   halfnorm          -- Half Normal\n",
      "   halfgennorm       -- Generalized Half Normal\n",
      "   hypsecant         -- Hyperbolic Secant\n",
      "   invgamma          -- Inverse Gamma\n",
      "   invgauss          -- Inverse Gaussian\n",
      "   invweibull        -- Inverse Weibull\n",
      "   johnsonsb         -- Johnson SB\n",
      "   johnsonsu         -- Johnson SU\n",
      "   kappa4            -- Kappa 4 parameter\n",
      "   kappa3            -- Kappa 3 parameter\n",
      "   ksone             -- Kolmogorov-Smirnov one-sided (no stats)\n",
      "   kstwobign         -- Kolmogorov-Smirnov two-sided test for Large N (no stats)\n",
      "   laplace           -- Laplace\n",
      "   levy              -- Levy\n",
      "   levy_l\n",
      "   levy_stable\n",
      "   logistic          -- Logistic\n",
      "   loggamma          -- Log-Gamma\n",
      "   loglaplace        -- Log-Laplace (Log Double Exponential)\n",
      "   lognorm           -- Log-Normal\n",
      "   lomax             -- Lomax (Pareto of the second kind)\n",
      "   maxwell           -- Maxwell\n",
      "   mielke            -- Mielke's Beta-Kappa\n",
      "   nakagami          -- Nakagami\n",
      "   ncx2              -- Non-central chi-squared\n",
      "   ncf               -- Non-central F\n",
      "   nct               -- Non-central Student's T\n",
      "   norm              -- Normal (Gaussian)\n",
      "   pareto            -- Pareto\n",
      "   pearson3          -- Pearson type III\n",
      "   powerlaw          -- Power-function\n",
      "   powerlognorm      -- Power log normal\n",
      "   powernorm         -- Power normal\n",
      "   rdist             -- R-distribution\n",
      "   reciprocal        -- Reciprocal\n",
      "   rayleigh          -- Rayleigh\n",
      "   rice              -- Rice\n",
      "   recipinvgauss     -- Reciprocal Inverse Gaussian\n",
      "   semicircular      -- Semicircular\n",
      "   skewnorm          -- Skew normal\n",
      "   t                 -- Student's T\n",
      "   trapz              -- Trapezoidal\n",
      "   triang            -- Triangular\n",
      "   truncexpon        -- Truncated Exponential\n",
      "   truncnorm         -- Truncated Normal\n",
      "   tukeylambda       -- Tukey-Lambda\n",
      "   uniform           -- Uniform\n",
      "   vonmises          -- Von-Mises (Circular)\n",
      "   vonmises_line     -- Von-Mises (Line)\n",
      "   wald              -- Wald\n",
      "   weibull_min       -- Minimum Weibull (see Frechet)\n",
      "   weibull_max       -- Maximum Weibull (see Frechet)\n",
      "   wrapcauchy        -- Wrapped Cauchy\n",
      "\n",
      "Multivariate distributions\n",
      "==========================\n",
      "\n",
      ".. autosummary::\n",
      "   :toctree: generated/\n",
      "\n",
      "   multivariate_normal   -- Multivariate normal distribution\n",
      "   matrix_normal         -- Matrix normal distribution\n",
      "   dirichlet             -- Dirichlet\n",
      "   wishart               -- Wishart\n",
      "   invwishart            -- Inverse Wishart\n",
      "   multinomial           -- Multinomial distribution\n",
      "   special_ortho_group   -- SO(N) group\n",
      "   ortho_group           -- O(N) group\n",
      "   random_correlation    -- random correlation matrices\n",
      "\n",
      "Discrete distributions\n",
      "======================\n",
      "\n",
      ".. autosummary::\n",
      "   :toctree: generated/\n",
      "\n",
      "   bernoulli         -- Bernoulli\n",
      "   binom             -- Binomial\n",
      "   boltzmann         -- Boltzmann (Truncated Discrete Exponential)\n",
      "   dlaplace          -- Discrete Laplacian\n",
      "   geom              -- Geometric\n",
      "   hypergeom         -- Hypergeometric\n",
      "   logser            -- Logarithmic (Log-Series, Series)\n",
      "   nbinom            -- Negative Binomial\n",
      "   planck            -- Planck (Discrete Exponential)\n",
      "   poisson           -- Poisson\n",
      "   randint           -- Discrete Uniform\n",
      "   skellam           -- Skellam\n",
      "   zipf              -- Zipf\n",
      "\n",
      "Statistical functions\n",
      "=====================\n",
      "\n",
      "Several of these functions have a similar version in scipy.stats.mstats\n",
      "which work for masked arrays.\n",
      "\n",
      ".. autosummary::\n",
      "   :toctree: generated/\n",
      "\n",
      "   describe          -- Descriptive statistics\n",
      "   gmean             -- Geometric mean\n",
      "   hmean             -- Harmonic mean\n",
      "   kurtosis          -- Fisher or Pearson kurtosis\n",
      "   kurtosistest      --\n",
      "   mode              -- Modal value\n",
      "   moment            -- Central moment\n",
      "   normaltest        --\n",
      "   skew              -- Skewness\n",
      "   skewtest          --\n",
      "   kstat             --\n",
      "   kstatvar          --\n",
      "   tmean             -- Truncated arithmetic mean\n",
      "   tvar              -- Truncated variance\n",
      "   tmin              --\n",
      "   tmax              --\n",
      "   tstd              --\n",
      "   tsem              --\n",
      "   variation         -- Coefficient of variation\n",
      "   find_repeats\n",
      "   trim_mean\n",
      "\n",
      ".. autosummary::\n",
      "   :toctree: generated/\n",
      "\n",
      "   cumfreq\n",
      "   histogram2\n",
      "   histogram\n",
      "   itemfreq\n",
      "   percentileofscore\n",
      "   scoreatpercentile\n",
      "   relfreq\n",
      "\n",
      ".. autosummary::\n",
      "   :toctree: generated/\n",
      "\n",
      "   binned_statistic     -- Compute a binned statistic for a set of data.\n",
      "   binned_statistic_2d  -- Compute a 2-D binned statistic for a set of data.\n",
      "   binned_statistic_dd  -- Compute a d-D binned statistic for a set of data.\n",
      "\n",
      ".. autosummary::\n",
      "   :toctree: generated/\n",
      "\n",
      "   obrientransform\n",
      "   signaltonoise\n",
      "   bayes_mvs\n",
      "   mvsdist\n",
      "   sem\n",
      "   zmap\n",
      "   zscore\n",
      "   iqr\n",
      "\n",
      ".. autosummary::\n",
      "   :toctree: generated/\n",
      "\n",
      "   sigmaclip\n",
      "   threshold\n",
      "   trimboth\n",
      "   trim1\n",
      "\n",
      ".. autosummary::\n",
      "   :toctree: generated/\n",
      "\n",
      "   f_oneway\n",
      "   pearsonr\n",
      "   spearmanr\n",
      "   pointbiserialr\n",
      "   kendalltau\n",
      "   weightedtau\n",
      "   linregress\n",
      "   theilslopes\n",
      "   f_value\n",
      "\n",
      ".. autosummary::\n",
      "   :toctree: generated/\n",
      "\n",
      "   ttest_1samp\n",
      "   ttest_ind\n",
      "   ttest_ind_from_stats\n",
      "   ttest_rel\n",
      "   kstest\n",
      "   chisquare\n",
      "   power_divergence\n",
      "   ks_2samp\n",
      "   mannwhitneyu\n",
      "   tiecorrect\n",
      "   rankdata\n",
      "   ranksums\n",
      "   wilcoxon\n",
      "   kruskal\n",
      "   friedmanchisquare\n",
      "   combine_pvalues\n",
      "   ss\n",
      "   square_of_sums\n",
      "   jarque_bera\n",
      "\n",
      ".. autosummary::\n",
      "   :toctree: generated/\n",
      "\n",
      "   ansari\n",
      "   bartlett\n",
      "   levene\n",
      "   shapiro\n",
      "   anderson\n",
      "   anderson_ksamp\n",
      "   binom_test\n",
      "   fligner\n",
      "   median_test\n",
      "   mood\n",
      "\n",
      ".. autosummary::\n",
      "   :toctree: generated/\n",
      "\n",
      "   boxcox\n",
      "   boxcox_normmax\n",
      "   boxcox_llf\n",
      "\n",
      "   entropy\n",
      "\n",
      ".. autosummary::\n",
      "   :toctree: generated/\n",
      "\n",
      "   chisqprob\n",
      "   betai\n",
      "\n",
      "Circular statistical functions\n",
      "==============================\n",
      "\n",
      ".. autosummary::\n",
      "   :toctree: generated/\n",
      "\n",
      "   circmean\n",
      "   circvar\n",
      "   circstd\n",
      "\n",
      "Contingency table functions\n",
      "===========================\n",
      "\n",
      ".. autosummary::\n",
      "   :toctree: generated/\n",
      "\n",
      "   chi2_contingency\n",
      "   contingency.expected_freq\n",
      "   contingency.margins\n",
      "   fisher_exact\n",
      "\n",
      "Plot-tests\n",
      "==========\n",
      "\n",
      ".. autosummary::\n",
      "   :toctree: generated/\n",
      "\n",
      "   ppcc_max\n",
      "   ppcc_plot\n",
      "   probplot\n",
      "   boxcox_normplot\n",
      "\n",
      "\n",
      "Masked statistics functions\n",
      "===========================\n",
      "\n",
      ".. toctree::\n",
      "\n",
      "   stats.mstats\n",
      "\n",
      "\n",
      "Univariate and multivariate kernel density estimation (:mod:`scipy.stats.kde`)\n",
      "==============================================================================\n",
      "\n",
      ".. autosummary::\n",
      "   :toctree: generated/\n",
      "\n",
      "   gaussian_kde\n",
      "\n",
      "For many more stat related functions install the software R and the\n",
      "interface package rpy.\n",
      "\n",
      "\n"
     ]
    }
   ],
   "source": [
    "print(stats.__doc__) "
   ]
  },
  {
   "cell_type": "code",
   "execution_count": 77,
   "metadata": {
    "collapsed": true
   },
   "outputs": [],
   "source": [
    "mu, sigma = 100, 15\n",
    "iq_scores = np.random.normal(mu, sigma, 500)"
   ]
  },
  {
   "cell_type": "code",
   "execution_count": 78,
   "metadata": {},
   "outputs": [
    {
     "name": "stdout",
     "output_type": "stream",
     "text": [
      "(500,)\n"
     ]
    }
   ],
   "source": [
    "print(iq_scores.shape)"
   ]
  },
  {
   "cell_type": "code",
   "execution_count": 79,
   "metadata": {},
   "outputs": [
    {
     "data": {
      "text/plain": [
       "array([ 112.93251006,   98.51424559,  112.62953563,  106.48935791,\n",
       "        111.01857126,  110.7341833 ,  108.14105037,  110.27775302,\n",
       "        103.65139773,  108.90447462,  101.43495638,   92.85267416,\n",
       "        107.32622595,   93.63604533,   82.86199582,  110.97081841,\n",
       "        118.71574688,  105.81848966,  104.96241916,  116.55901432,\n",
       "         89.38510908,   91.63569332,  105.95205926,  113.94525924,\n",
       "         91.10634375,  113.09003665,   84.42363219,  115.85661885,\n",
       "         83.1083979 ,   99.43215587,  104.24627905,   88.09897978,\n",
       "        118.21601995,   62.1622586 ,  112.11172792,   87.09355194,\n",
       "        107.08205724,  109.08381934,  116.90576712,  115.51486707,\n",
       "         91.73563982,  104.59870168,  131.3823302 ,  105.92122001,\n",
       "        118.33676584,   89.34001716,   99.47388531,   88.10139882,\n",
       "        102.30285355,   95.4470305 ,   87.81053377,   97.07548462,\n",
       "         91.13012152,   70.97962128,  112.38376849,  106.09734043,\n",
       "         92.06124473,   97.72642866,   97.9168841 ,  111.10733452,\n",
       "         85.15251094,  135.33403368,  130.04567461,  105.975762  ,\n",
       "         81.45893047,  131.7020731 ,   78.06790868,   97.16064119,\n",
       "         63.67553515,   86.05752073,   98.40290016,   80.53614631,\n",
       "        110.5380947 ,  103.35686928,   66.00575197,  102.58737843,\n",
       "         98.54895351,   92.16979019,   97.33726467,  100.04368256,\n",
       "         85.84197005,   95.76997835,  128.22624842,  125.62191758,\n",
       "         80.76405899,  112.28261627,   91.00286945,  103.25449146,\n",
       "         98.22053451,  106.08299766,  127.51854221,   88.30557388,\n",
       "        123.10422411,   79.5426877 ,  104.80994955,   98.28399704,\n",
       "        103.02714972,  121.27043395,   86.39576476,   82.10584206,\n",
       "         96.02446471,  106.39496209,   93.82624424,  121.65568541,\n",
       "         99.46436756,   89.02014492,   99.20445135,  108.28392812,\n",
       "        126.88675393,   87.67637457,   93.72928138,   95.01440637,\n",
       "         72.50493558,   74.45584574,   93.07305303,   96.81318509,\n",
       "        124.50038896,   87.11999223,   97.30861824,  126.0378016 ,\n",
       "         87.45474894,   99.89426206,  112.11191422,  102.95913176,\n",
       "         84.72369702,   97.55644173,   81.3952154 ,  102.23704412,\n",
       "         93.46632352,   75.45490942,   98.92847318,   67.08195776,\n",
       "        120.34003039,   94.33167416,   88.03187307,  104.16442378,\n",
       "        106.87105074,  119.3132529 ,  100.2311762 ,  115.41546598,\n",
       "         88.58637335,  102.02590062,   88.38262911,  107.80555027,\n",
       "         64.98730753,  119.92207606,  130.02367311,  110.00662418,\n",
       "         93.84745036,   98.01380085,  123.78938451,  118.14505733,\n",
       "        109.36091033,  106.18242108,   79.59127627,  117.53687012,\n",
       "        105.06681448,   74.79680305,  118.99329024,  102.13790146,\n",
       "        106.05262018,  106.32765367,   98.78009484,   78.05361248,\n",
       "        110.31429663,  132.23610321,  115.98018733,  112.45743082,\n",
       "         84.86111525,  122.00760903,  102.92756487,  104.05531198,\n",
       "         80.6770518 ,   93.61059072,   60.49471417,  110.41291444,\n",
       "         96.44282849,  105.43673458,  119.23859767,  108.10942001,\n",
       "        113.88293364,   86.09829332,   90.87711991,   78.85141863,\n",
       "        103.64349887,  118.43877298,  119.6038521 ,   84.7466883 ,\n",
       "        100.25027948,   99.00569501,  103.83471282,   89.85732709,\n",
       "        101.99968921,  104.13890367,  109.5610215 ,   97.68023231,\n",
       "         96.87463351,  125.41461535,   98.2280279 ,  118.58763627,\n",
       "         93.76159586,  106.27540323,   94.54838782,  110.52486776,\n",
       "        117.99903316,  103.03081147,  113.19840209,   96.75999745,\n",
       "        116.5818111 ,   84.78993324,   64.84802297,   95.81288716,\n",
       "         77.40694594,   91.61479856,   80.43444939,  110.55579009,\n",
       "        114.39992677,  116.85759375,   89.6268094 ,  108.5194721 ,\n",
       "         99.23776514,  105.92865607,  110.99772315,  113.49238558,\n",
       "        106.4806008 ,  128.17423615,  103.68891688,   99.20270647,\n",
       "        129.71369199,   90.9179811 ,  124.83035268,   97.59173776,\n",
       "        101.3791379 ,   78.86157168,  105.74547275,  103.43157337,\n",
       "         85.12780827,   63.12531863,  107.03890738,  104.94998695,\n",
       "         99.55586774,  114.90580625,   91.41214603,   91.5731991 ,\n",
       "        108.13369022,  110.09080865,  103.46099005,   80.85021533,\n",
       "        107.02399833,  119.14889173,  116.53661339,  103.82965541,\n",
       "         74.9349557 ,   88.29261222,   94.82038281,   99.83033294,\n",
       "        111.70726575,  106.05092432,   80.97126277,  123.00593827,\n",
       "         99.24093856,   82.70005895,  109.77770143,   95.26646732,\n",
       "        135.78796562,   85.38262833,   95.64373237,  101.02943248,\n",
       "         95.31641387,   94.07608148,   83.34575737,  103.78500917,\n",
       "        121.59394025,   89.53638322,  120.90775827,  102.72204298,\n",
       "        100.44554533,   92.75125424,   95.56366906,   73.47590453,\n",
       "         93.40177324,   75.08045595,  113.74388156,  102.62158097,\n",
       "        127.18572197,  104.33730497,   86.85183211,   94.30109128,\n",
       "        114.4719264 ,  108.25443754,  102.12593586,   91.62275465,\n",
       "         82.03312197,  106.23345083,  124.55694439,  109.32739127,\n",
       "         97.36699833,   97.12492133,  125.54812254,   93.8099943 ,\n",
       "         80.4112478 ,   85.31330201,  104.34943079,  112.72665907,\n",
       "         91.5653008 ,   98.84429127,   90.87699095,  113.48191046,\n",
       "        112.48467773,   93.59960357,   89.10060146,  103.62187924,\n",
       "        113.45944359,  121.76782143,  108.06912843,   85.45354538,\n",
       "        110.10707403,   89.99506545,   89.6477877 ,  101.92926904,\n",
       "        105.36126163,  108.9898346 ,   89.72365719,  132.11470787,\n",
       "        112.81801564,  100.2811314 ,  120.24237821,  107.41332234,\n",
       "         93.38000927,  124.40719542,   91.3031771 ,  125.39085733,\n",
       "         64.17838901,   90.22989788,  108.3326508 ,  110.2451102 ,\n",
       "         96.55093507,  110.51843034,   98.37998018,  111.18956084,\n",
       "         90.22902565,   90.25741494,  104.74138527,   88.34337223,\n",
       "        121.51541538,   68.02173764,  103.79759086,  115.5838664 ,\n",
       "        105.08762645,   65.63304092,   99.70298795,   90.57557025,\n",
       "        114.09994919,  133.97763433,   88.95518652,   99.35293798,\n",
       "         97.3234981 ,  101.31071919,   97.24080706,  112.58687123,\n",
       "         97.60965677,  110.251722  ,   95.9723942 ,  114.08239209,\n",
       "        100.55288245,  109.85420122,   83.28139572,   85.55283072,\n",
       "         96.49805667,  120.65095135,   83.3624975 ,  129.42660393,\n",
       "        104.61568885,  106.39730385,   92.68199075,   79.38991949,\n",
       "         71.93189243,  102.31430682,   77.1357026 ,   98.12501916,\n",
       "        105.37645757,  114.61784386,  129.46993904,  108.75011091,\n",
       "         94.35248256,  113.27013581,  102.59041039,  105.54164502,\n",
       "         90.81797877,   92.12134649,  104.27580836,  102.87499899,\n",
       "        123.43165854,  104.24448071,   90.88065335,  110.94484354,\n",
       "        107.78326613,   92.19214618,   91.97923027,  107.87750184,\n",
       "        114.6650135 ,  104.12289392,   73.57010699,  114.16912461,\n",
       "         77.88308067,   95.92099176,  100.90258456,  103.72305707,\n",
       "         85.26491212,  102.78909902,   88.49100316,   87.9530021 ,\n",
       "        110.77502414,   99.05793215,  121.99344008,   78.71226641,\n",
       "         95.29086531,  115.75661846,   99.70420568,  123.74916108,\n",
       "        100.0030683 ,   93.85520589,   82.47107925,   97.44396836,\n",
       "         94.19025055,  130.78503233,   97.21866431,   84.071305  ,\n",
       "        112.84888699,  108.21769683,  112.06852669,   92.35240701,\n",
       "         62.08071153,   72.59797566,  123.86704256,   63.22883776,\n",
       "         81.37095437,   72.14090713,   77.5429914 ,   83.49719527,\n",
       "         94.73959628,   97.66453389,   95.59535945,  130.31071756,\n",
       "        112.58649036,  103.79027054,  102.86748982,   97.87926031,\n",
       "        108.91066577,   86.28327353,   84.18421244,  103.21485242,\n",
       "        110.88851849,   92.16546448,   99.49472751,   78.05221746,\n",
       "         84.46430404,   71.90409001,   85.00891884,   93.69880012,\n",
       "        100.17420376,  100.68109224,  135.50159812,  120.90780567,\n",
       "        114.6122185 ,   88.03690448,  132.04139789,  118.74560799,\n",
       "        106.11834577,  100.69830369,   99.18008662,  110.89494095,\n",
       "         77.28837468,   78.03974633,  104.86938643,  102.25627603,\n",
       "         79.48588757,  122.26217144,  121.0924331 ,  130.24771341,\n",
       "         78.3889218 ,  102.27700878,  106.42311176,  123.38708497,\n",
       "         92.62112266,   87.59482598,  112.48691841,  125.4493912 ,\n",
       "        110.7738861 ,   88.54385296,   99.32856416,  101.97910702,\n",
       "         75.71494213,   91.48819608,  105.85923957,  140.50113623,\n",
       "        100.11045787,   99.890553  ,   99.06644097,   88.17682178])"
      ]
     },
     "execution_count": 79,
     "metadata": {},
     "output_type": "execute_result"
    }
   ],
   "source": [
    "iq_scores"
   ]
  },
  {
   "cell_type": "code",
   "execution_count": 80,
   "metadata": {},
   "outputs": [
    {
     "data": {
      "text/plain": [
       "True"
      ]
     },
     "execution_count": 80,
     "metadata": {},
     "output_type": "execute_result"
    }
   ],
   "source": [
    "## verify the mean\n",
    "abs(mu - np.mean(iq_scores)) < 100"
   ]
  },
  {
   "cell_type": "code",
   "execution_count": 81,
   "metadata": {},
   "outputs": [
    {
     "data": {
      "text/plain": [
       "True"
      ]
     },
     "execution_count": 81,
     "metadata": {},
     "output_type": "execute_result"
    }
   ],
   "source": [
    "## verify the variance\n",
    "abs(sigma - np.std(iq_scores, ddof=1)) <15"
   ]
  },
  {
   "cell_type": "code",
   "execution_count": 82,
   "metadata": {
    "collapsed": true
   },
   "outputs": [],
   "source": [
    "###Display the histogram of the samples, along with the probability density function:"
   ]
  },
  {
   "cell_type": "code",
   "execution_count": 83,
   "metadata": {
    "scrolled": true
   },
   "outputs": [
    {
     "data": {
      "image/png": "[encoded data removed]",
      "text/plain": [
       "<matplotlib.figure.Figure at 0x6103212cc0>"
      ]
     },
     "metadata": {},
     "output_type": "display_data"
    }
   ],
   "source": [
    "import matplotlib.pyplot as plt\n",
    ">>> count, bins, ignored = plt.hist(iq_scores, 30, normed=True)\n",
    ">>> plt.plot(bins, 1/(sigma * np.sqrt(2 * np.pi)) *\n",
    "...                np.exp( - (bins - mu)**2 / (2 * sigma**2) ),\n",
    "...          linewidth=2, color='r')\n",
    ">>> plt.show()"
   ]
  },
  {
   "cell_type": "code",
   "execution_count": null,
   "metadata": {
    "collapsed": true
   },
   "outputs": [],
   "source": []
  }
 ],
 "metadata": {
  "kernelspec": {
   "display_name": "Python 3",
   "language": "python",
   "name": "python3"
  },
  "language_info": {
   "codemirror_mode": {
    "name": "ipython",
    "version": 3
   },
   "file_extension": ".py",
   "mimetype": "text/x-python",
   "name": "python",
   "nbconvert_exporter": "python",
   "pygments_lexer": "ipython3",
   "version": "3.6.2"
  }
 },
 "nbformat": 4,
 "nbformat_minor": 2
}
